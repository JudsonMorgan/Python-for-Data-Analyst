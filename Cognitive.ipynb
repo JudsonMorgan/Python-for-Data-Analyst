{
 "cells": [
  {
   "cell_type": "code",
   "execution_count": 1,
   "id": "0c890fc6",
   "metadata": {},
   "outputs": [],
   "source": [
    "import numpy as np\n",
    "import pandas as pd\n",
    "import matplotlib.pyplot as plt\n",
    "import seaborn as sns\n",
    "sns.set_style('whitegrid')\n",
    "import warnings\n",
    "warnings.filterwarnings('ignore')\n",
    "%matplotlib inline"
   ]
  },
  {
   "cell_type": "code",
   "execution_count": 2,
   "id": "eb33157b",
   "metadata": {},
   "outputs": [
    {
     "data": {
      "text/html": [
       "<div>\n",
       "<style scoped>\n",
       "    .dataframe tbody tr th:only-of-type {\n",
       "        vertical-align: middle;\n",
       "    }\n",
       "\n",
       "    .dataframe tbody tr th {\n",
       "        vertical-align: top;\n",
       "    }\n",
       "\n",
       "    .dataframe thead th {\n",
       "        text-align: right;\n",
       "    }\n",
       "</style>\n",
       "<table border=\"1\" class=\"dataframe\">\n",
       "  <thead>\n",
       "    <tr style=\"text-align: right;\">\n",
       "      <th></th>\n",
       "      <th>Spectrum_hole</th>\n",
       "      <th>freq_in_Hz</th>\n",
       "      <th>power_1</th>\n",
       "      <th>power_2</th>\n",
       "      <th>power_3</th>\n",
       "      <th>power_4</th>\n",
       "      <th>power_5</th>\n",
       "      <th>power_6</th>\n",
       "      <th>power_7</th>\n",
       "      <th>power_8</th>\n",
       "      <th>power_9</th>\n",
       "      <th>power_10</th>\n",
       "      <th>power_11</th>\n",
       "      <th>Unnamed: 13</th>\n",
       "    </tr>\n",
       "  </thead>\n",
       "  <tbody>\n",
       "    <tr>\n",
       "      <th>0</th>\n",
       "      <td>1</td>\n",
       "      <td>80000000.0</td>\n",
       "      <td>-107.0</td>\n",
       "      <td>-106.0</td>\n",
       "      <td>-108.0</td>\n",
       "      <td>-109.0</td>\n",
       "      <td>-108.0</td>\n",
       "      <td>-104.0</td>\n",
       "      <td>-107.0</td>\n",
       "      <td>-106.0</td>\n",
       "      <td>-108.0</td>\n",
       "      <td>-104.0</td>\n",
       "      <td>-104.0</td>\n",
       "      <td>NaN</td>\n",
       "    </tr>\n",
       "    <tr>\n",
       "      <th>1</th>\n",
       "      <td>1</td>\n",
       "      <td>84200000.0</td>\n",
       "      <td>-107.0</td>\n",
       "      <td>-106.0</td>\n",
       "      <td>-105.0</td>\n",
       "      <td>-107.0</td>\n",
       "      <td>-105.0</td>\n",
       "      <td>-114.0</td>\n",
       "      <td>-105.0</td>\n",
       "      <td>-108.0</td>\n",
       "      <td>-106.0</td>\n",
       "      <td>-108.0</td>\n",
       "      <td>-104.0</td>\n",
       "      <td>NaN</td>\n",
       "    </tr>\n",
       "    <tr>\n",
       "      <th>2</th>\n",
       "      <td>1</td>\n",
       "      <td>88300000.0</td>\n",
       "      <td>-47.1</td>\n",
       "      <td>-53.9</td>\n",
       "      <td>-52.2</td>\n",
       "      <td>-39.8</td>\n",
       "      <td>-49.9</td>\n",
       "      <td>-48.1</td>\n",
       "      <td>-52.5</td>\n",
       "      <td>-53.4</td>\n",
       "      <td>-53.9</td>\n",
       "      <td>-51.4</td>\n",
       "      <td>-40.9</td>\n",
       "      <td>NaN</td>\n",
       "    </tr>\n",
       "    <tr>\n",
       "      <th>3</th>\n",
       "      <td>0</td>\n",
       "      <td>92500000.0</td>\n",
       "      <td>-65.7</td>\n",
       "      <td>-77.6</td>\n",
       "      <td>-71.7</td>\n",
       "      <td>-73.8</td>\n",
       "      <td>-71.9</td>\n",
       "      <td>-67.9</td>\n",
       "      <td>-77.8</td>\n",
       "      <td>-66.7</td>\n",
       "      <td>-69.7</td>\n",
       "      <td>-65.9</td>\n",
       "      <td>-70.2</td>\n",
       "      <td>NaN</td>\n",
       "    </tr>\n",
       "    <tr>\n",
       "      <th>4</th>\n",
       "      <td>0</td>\n",
       "      <td>96700000.0</td>\n",
       "      <td>-90.8</td>\n",
       "      <td>-85.9</td>\n",
       "      <td>-88.5</td>\n",
       "      <td>-88.5</td>\n",
       "      <td>-88.7</td>\n",
       "      <td>-98.7</td>\n",
       "      <td>-101.0</td>\n",
       "      <td>-96.9</td>\n",
       "      <td>-96.6</td>\n",
       "      <td>-96.3</td>\n",
       "      <td>-98.8</td>\n",
       "      <td>NaN</td>\n",
       "    </tr>\n",
       "  </tbody>\n",
       "</table>\n",
       "</div>"
      ],
      "text/plain": [
       "   Spectrum_hole  freq_in_Hz  power_1  power_2  power_3  power_4  power_5  \\\n",
       "0              1  80000000.0   -107.0   -106.0   -108.0   -109.0   -108.0   \n",
       "1              1  84200000.0   -107.0   -106.0   -105.0   -107.0   -105.0   \n",
       "2              1  88300000.0    -47.1    -53.9    -52.2    -39.8    -49.9   \n",
       "3              0  92500000.0    -65.7    -77.6    -71.7    -73.8    -71.9   \n",
       "4              0  96700000.0    -90.8    -85.9    -88.5    -88.5    -88.7   \n",
       "\n",
       "   power_6  power_7  power_8  power_9  power_10  power_11  Unnamed: 13  \n",
       "0   -104.0   -107.0   -106.0   -108.0    -104.0    -104.0          NaN  \n",
       "1   -114.0   -105.0   -108.0   -106.0    -108.0    -104.0          NaN  \n",
       "2    -48.1    -52.5    -53.4    -53.9     -51.4     -40.9          NaN  \n",
       "3    -67.9    -77.8    -66.7    -69.7     -65.9     -70.2          NaN  \n",
       "4    -98.7   -101.0    -96.9    -96.6     -96.3     -98.8          NaN  "
      ]
     },
     "execution_count": 2,
     "metadata": {},
     "output_type": "execute_result"
    }
   ],
   "source": [
    "data = pd.read_csv('data/cognitive_data.csv')\n",
    "\n",
    "data.head()"
   ]
  },
  {
   "cell_type": "code",
   "execution_count": 3,
   "id": "d836565f",
   "metadata": {},
   "outputs": [
    {
     "data": {
      "text/plain": [
       "1    419\n",
       "0     42\n",
       "Name: Spectrum_hole, dtype: int64"
      ]
     },
     "execution_count": 3,
     "metadata": {},
     "output_type": "execute_result"
    }
   ],
   "source": [
    "data['Spectrum_hole'].value_counts()"
   ]
  },
  {
   "cell_type": "code",
   "execution_count": 4,
   "id": "79d1e30e",
   "metadata": {},
   "outputs": [
    {
     "data": {
      "text/plain": [
       "(461, 14)"
      ]
     },
     "execution_count": 4,
     "metadata": {},
     "output_type": "execute_result"
    }
   ],
   "source": [
    "data.shape"
   ]
  },
  {
   "cell_type": "markdown",
   "id": "e493945b",
   "metadata": {},
   "source": [
    "### Problem definition\n",
    "\n",
    "- Regression model to predict the frequency using power and spectrum.\n",
    "- Classification model to predict whether it is spectrum or not."
   ]
  },
  {
   "cell_type": "code",
   "execution_count": 5,
   "id": "0d06ce6b",
   "metadata": {},
   "outputs": [
    {
     "data": {
      "text/html": [
       "<div>\n",
       "<style scoped>\n",
       "    .dataframe tbody tr th:only-of-type {\n",
       "        vertical-align: middle;\n",
       "    }\n",
       "\n",
       "    .dataframe tbody tr th {\n",
       "        vertical-align: top;\n",
       "    }\n",
       "\n",
       "    .dataframe thead th {\n",
       "        text-align: right;\n",
       "    }\n",
       "</style>\n",
       "<table border=\"1\" class=\"dataframe\">\n",
       "  <thead>\n",
       "    <tr style=\"text-align: right;\">\n",
       "      <th></th>\n",
       "      <th>Spectrum_hole</th>\n",
       "      <th>freq_in_Hz</th>\n",
       "      <th>power_1</th>\n",
       "      <th>power_2</th>\n",
       "      <th>power_3</th>\n",
       "      <th>power_4</th>\n",
       "      <th>power_5</th>\n",
       "      <th>power_6</th>\n",
       "      <th>power_7</th>\n",
       "      <th>power_8</th>\n",
       "      <th>power_9</th>\n",
       "      <th>power_10</th>\n",
       "      <th>power_11</th>\n",
       "      <th>Unnamed: 13</th>\n",
       "    </tr>\n",
       "  </thead>\n",
       "  <tbody>\n",
       "    <tr>\n",
       "      <th>0</th>\n",
       "      <td>1</td>\n",
       "      <td>80000000.0</td>\n",
       "      <td>-107.0</td>\n",
       "      <td>-106.0</td>\n",
       "      <td>-108.0</td>\n",
       "      <td>-109.0</td>\n",
       "      <td>-108.0</td>\n",
       "      <td>-104.0</td>\n",
       "      <td>-107.0</td>\n",
       "      <td>-106.0</td>\n",
       "      <td>-108.0</td>\n",
       "      <td>-104.0</td>\n",
       "      <td>-104.0</td>\n",
       "      <td>NaN</td>\n",
       "    </tr>\n",
       "    <tr>\n",
       "      <th>1</th>\n",
       "      <td>1</td>\n",
       "      <td>84200000.0</td>\n",
       "      <td>-107.0</td>\n",
       "      <td>-106.0</td>\n",
       "      <td>-105.0</td>\n",
       "      <td>-107.0</td>\n",
       "      <td>-105.0</td>\n",
       "      <td>-114.0</td>\n",
       "      <td>-105.0</td>\n",
       "      <td>-108.0</td>\n",
       "      <td>-106.0</td>\n",
       "      <td>-108.0</td>\n",
       "      <td>-104.0</td>\n",
       "      <td>NaN</td>\n",
       "    </tr>\n",
       "    <tr>\n",
       "      <th>2</th>\n",
       "      <td>1</td>\n",
       "      <td>88300000.0</td>\n",
       "      <td>-47.1</td>\n",
       "      <td>-53.9</td>\n",
       "      <td>-52.2</td>\n",
       "      <td>-39.8</td>\n",
       "      <td>-49.9</td>\n",
       "      <td>-48.1</td>\n",
       "      <td>-52.5</td>\n",
       "      <td>-53.4</td>\n",
       "      <td>-53.9</td>\n",
       "      <td>-51.4</td>\n",
       "      <td>-40.9</td>\n",
       "      <td>NaN</td>\n",
       "    </tr>\n",
       "    <tr>\n",
       "      <th>3</th>\n",
       "      <td>0</td>\n",
       "      <td>92500000.0</td>\n",
       "      <td>-65.7</td>\n",
       "      <td>-77.6</td>\n",
       "      <td>-71.7</td>\n",
       "      <td>-73.8</td>\n",
       "      <td>-71.9</td>\n",
       "      <td>-67.9</td>\n",
       "      <td>-77.8</td>\n",
       "      <td>-66.7</td>\n",
       "      <td>-69.7</td>\n",
       "      <td>-65.9</td>\n",
       "      <td>-70.2</td>\n",
       "      <td>NaN</td>\n",
       "    </tr>\n",
       "    <tr>\n",
       "      <th>4</th>\n",
       "      <td>0</td>\n",
       "      <td>96700000.0</td>\n",
       "      <td>-90.8</td>\n",
       "      <td>-85.9</td>\n",
       "      <td>-88.5</td>\n",
       "      <td>-88.5</td>\n",
       "      <td>-88.7</td>\n",
       "      <td>-98.7</td>\n",
       "      <td>-101.0</td>\n",
       "      <td>-96.9</td>\n",
       "      <td>-96.6</td>\n",
       "      <td>-96.3</td>\n",
       "      <td>-98.8</td>\n",
       "      <td>NaN</td>\n",
       "    </tr>\n",
       "  </tbody>\n",
       "</table>\n",
       "</div>"
      ],
      "text/plain": [
       "   Spectrum_hole  freq_in_Hz  power_1  power_2  power_3  power_4  power_5  \\\n",
       "0              1  80000000.0   -107.0   -106.0   -108.0   -109.0   -108.0   \n",
       "1              1  84200000.0   -107.0   -106.0   -105.0   -107.0   -105.0   \n",
       "2              1  88300000.0    -47.1    -53.9    -52.2    -39.8    -49.9   \n",
       "3              0  92500000.0    -65.7    -77.6    -71.7    -73.8    -71.9   \n",
       "4              0  96700000.0    -90.8    -85.9    -88.5    -88.5    -88.7   \n",
       "\n",
       "   power_6  power_7  power_8  power_9  power_10  power_11  Unnamed: 13  \n",
       "0   -104.0   -107.0   -106.0   -108.0    -104.0    -104.0          NaN  \n",
       "1   -114.0   -105.0   -108.0   -106.0    -108.0    -104.0          NaN  \n",
       "2    -48.1    -52.5    -53.4    -53.9     -51.4     -40.9          NaN  \n",
       "3    -67.9    -77.8    -66.7    -69.7     -65.9     -70.2          NaN  \n",
       "4    -98.7   -101.0    -96.9    -96.6     -96.3     -98.8          NaN  "
      ]
     },
     "execution_count": 5,
     "metadata": {},
     "output_type": "execute_result"
    }
   ],
   "source": [
    "data.head()"
   ]
  },
  {
   "cell_type": "code",
   "execution_count": 6,
   "id": "c8406181",
   "metadata": {},
   "outputs": [],
   "source": [
    "#drop the unnamed and spectrum_hole columns\n",
    "\n",
    "reg_data = data.drop('Unnamed: 13', axis = 1)"
   ]
  },
  {
   "cell_type": "code",
   "execution_count": 7,
   "id": "c6737bc1",
   "metadata": {},
   "outputs": [
    {
     "data": {
      "text/plain": [
       "array(['Spectrum_hole', 'freq_in_Hz', 'power_1', 'power_2', 'power_3',\n",
       "       'power_4', 'power_5', 'power_6', 'power_7', 'power_8', 'power_9',\n",
       "       'power_10', 'power_11'], dtype=object)"
      ]
     },
     "execution_count": 7,
     "metadata": {},
     "output_type": "execute_result"
    }
   ],
   "source": [
    "#rearrange the columns\n",
    "reg_data.columns.values"
   ]
  },
  {
   "cell_type": "code",
   "execution_count": 8,
   "id": "5c2dff27",
   "metadata": {},
   "outputs": [
    {
     "data": {
      "text/html": [
       "<div>\n",
       "<style scoped>\n",
       "    .dataframe tbody tr th:only-of-type {\n",
       "        vertical-align: middle;\n",
       "    }\n",
       "\n",
       "    .dataframe tbody tr th {\n",
       "        vertical-align: top;\n",
       "    }\n",
       "\n",
       "    .dataframe thead th {\n",
       "        text-align: right;\n",
       "    }\n",
       "</style>\n",
       "<table border=\"1\" class=\"dataframe\">\n",
       "  <thead>\n",
       "    <tr style=\"text-align: right;\">\n",
       "      <th></th>\n",
       "      <th>Spectrum_hole</th>\n",
       "      <th>power_1</th>\n",
       "      <th>power_2</th>\n",
       "      <th>power_3</th>\n",
       "      <th>power_4</th>\n",
       "      <th>power_5</th>\n",
       "      <th>power_6</th>\n",
       "      <th>power_7</th>\n",
       "      <th>power_8</th>\n",
       "      <th>power_9</th>\n",
       "      <th>power_10</th>\n",
       "      <th>power_11</th>\n",
       "      <th>freq_in_Hz</th>\n",
       "    </tr>\n",
       "  </thead>\n",
       "  <tbody>\n",
       "    <tr>\n",
       "      <th>0</th>\n",
       "      <td>1</td>\n",
       "      <td>-107.0</td>\n",
       "      <td>-106.0</td>\n",
       "      <td>-108.0</td>\n",
       "      <td>-109.0</td>\n",
       "      <td>-108.0</td>\n",
       "      <td>-104.0</td>\n",
       "      <td>-107.0</td>\n",
       "      <td>-106.0</td>\n",
       "      <td>-108.0</td>\n",
       "      <td>-104.0</td>\n",
       "      <td>-104.0</td>\n",
       "      <td>80000000.0</td>\n",
       "    </tr>\n",
       "    <tr>\n",
       "      <th>1</th>\n",
       "      <td>1</td>\n",
       "      <td>-107.0</td>\n",
       "      <td>-106.0</td>\n",
       "      <td>-105.0</td>\n",
       "      <td>-107.0</td>\n",
       "      <td>-105.0</td>\n",
       "      <td>-114.0</td>\n",
       "      <td>-105.0</td>\n",
       "      <td>-108.0</td>\n",
       "      <td>-106.0</td>\n",
       "      <td>-108.0</td>\n",
       "      <td>-104.0</td>\n",
       "      <td>84200000.0</td>\n",
       "    </tr>\n",
       "    <tr>\n",
       "      <th>2</th>\n",
       "      <td>1</td>\n",
       "      <td>-47.1</td>\n",
       "      <td>-53.9</td>\n",
       "      <td>-52.2</td>\n",
       "      <td>-39.8</td>\n",
       "      <td>-49.9</td>\n",
       "      <td>-48.1</td>\n",
       "      <td>-52.5</td>\n",
       "      <td>-53.4</td>\n",
       "      <td>-53.9</td>\n",
       "      <td>-51.4</td>\n",
       "      <td>-40.9</td>\n",
       "      <td>88300000.0</td>\n",
       "    </tr>\n",
       "    <tr>\n",
       "      <th>3</th>\n",
       "      <td>0</td>\n",
       "      <td>-65.7</td>\n",
       "      <td>-77.6</td>\n",
       "      <td>-71.7</td>\n",
       "      <td>-73.8</td>\n",
       "      <td>-71.9</td>\n",
       "      <td>-67.9</td>\n",
       "      <td>-77.8</td>\n",
       "      <td>-66.7</td>\n",
       "      <td>-69.7</td>\n",
       "      <td>-65.9</td>\n",
       "      <td>-70.2</td>\n",
       "      <td>92500000.0</td>\n",
       "    </tr>\n",
       "    <tr>\n",
       "      <th>4</th>\n",
       "      <td>0</td>\n",
       "      <td>-90.8</td>\n",
       "      <td>-85.9</td>\n",
       "      <td>-88.5</td>\n",
       "      <td>-88.5</td>\n",
       "      <td>-88.7</td>\n",
       "      <td>-98.7</td>\n",
       "      <td>-101.0</td>\n",
       "      <td>-96.9</td>\n",
       "      <td>-96.6</td>\n",
       "      <td>-96.3</td>\n",
       "      <td>-98.8</td>\n",
       "      <td>96700000.0</td>\n",
       "    </tr>\n",
       "  </tbody>\n",
       "</table>\n",
       "</div>"
      ],
      "text/plain": [
       "   Spectrum_hole  power_1  power_2  power_3  power_4  power_5  power_6  \\\n",
       "0              1   -107.0   -106.0   -108.0   -109.0   -108.0   -104.0   \n",
       "1              1   -107.0   -106.0   -105.0   -107.0   -105.0   -114.0   \n",
       "2              1    -47.1    -53.9    -52.2    -39.8    -49.9    -48.1   \n",
       "3              0    -65.7    -77.6    -71.7    -73.8    -71.9    -67.9   \n",
       "4              0    -90.8    -85.9    -88.5    -88.5    -88.7    -98.7   \n",
       "\n",
       "   power_7  power_8  power_9  power_10  power_11  freq_in_Hz  \n",
       "0   -107.0   -106.0   -108.0    -104.0    -104.0  80000000.0  \n",
       "1   -105.0   -108.0   -106.0    -108.0    -104.0  84200000.0  \n",
       "2    -52.5    -53.4    -53.9     -51.4     -40.9  88300000.0  \n",
       "3    -77.8    -66.7    -69.7     -65.9     -70.2  92500000.0  \n",
       "4   -101.0    -96.9    -96.6     -96.3     -98.8  96700000.0  "
      ]
     },
     "execution_count": 8,
     "metadata": {},
     "output_type": "execute_result"
    }
   ],
   "source": [
    "columns = ['Spectrum_hole','power_1', 'power_2', 'power_3', 'power_4',\n",
    "       'power_5', 'power_6', 'power_7', 'power_8', 'power_9', 'power_10',\n",
    "       'power_11', 'freq_in_Hz']\n",
    "\n",
    "reg_data = reg_data[columns]\n",
    "reg_data.head()"
   ]
  },
  {
   "cell_type": "code",
   "execution_count": 9,
   "id": "ba8025af",
   "metadata": {},
   "outputs": [
    {
     "data": {
      "text/plain": [
       "<AxesSubplot:ylabel='Frequency'>"
      ]
     },
     "execution_count": 9,
     "metadata": {},
     "output_type": "execute_result"
    },
    {
     "data": {
      "image/png": "[encoded data removed]",
      "text/plain": [
       "<Figure size 432x288 with 1 Axes>"
      ]
     },
     "metadata": {
      "needs_background": "light"
     },
     "output_type": "display_data"
    }
   ],
   "source": [
    "reg_data.plot(kind = 'hist')"
   ]
  },
  {
   "cell_type": "code",
   "execution_count": 10,
   "id": "3720ddff",
   "metadata": {},
   "outputs": [
    {
     "data": {
      "text/html": [
       "<div>\n",
       "<style scoped>\n",
       "    .dataframe tbody tr th:only-of-type {\n",
       "        vertical-align: middle;\n",
       "    }\n",
       "\n",
       "    .dataframe tbody tr th {\n",
       "        vertical-align: top;\n",
       "    }\n",
       "\n",
       "    .dataframe thead th {\n",
       "        text-align: right;\n",
       "    }\n",
       "</style>\n",
       "<table border=\"1\" class=\"dataframe\">\n",
       "  <thead>\n",
       "    <tr style=\"text-align: right;\">\n",
       "      <th></th>\n",
       "      <th>Spectrum_hole</th>\n",
       "      <th>power_1</th>\n",
       "      <th>power_2</th>\n",
       "      <th>power_3</th>\n",
       "      <th>power_4</th>\n",
       "      <th>power_5</th>\n",
       "      <th>power_6</th>\n",
       "      <th>power_7</th>\n",
       "      <th>power_8</th>\n",
       "      <th>power_9</th>\n",
       "      <th>power_10</th>\n",
       "      <th>power_11</th>\n",
       "      <th>freq_in_Hz</th>\n",
       "    </tr>\n",
       "  </thead>\n",
       "  <tbody>\n",
       "    <tr>\n",
       "      <th>0</th>\n",
       "      <td>1</td>\n",
       "      <td>-107.0</td>\n",
       "      <td>-106.0</td>\n",
       "      <td>-108.0</td>\n",
       "      <td>-109.0</td>\n",
       "      <td>-108.0</td>\n",
       "      <td>-104.0</td>\n",
       "      <td>-107.0</td>\n",
       "      <td>-106.0</td>\n",
       "      <td>-108.0</td>\n",
       "      <td>-104.0</td>\n",
       "      <td>-104.0</td>\n",
       "      <td>80000000.0</td>\n",
       "    </tr>\n",
       "    <tr>\n",
       "      <th>1</th>\n",
       "      <td>1</td>\n",
       "      <td>-107.0</td>\n",
       "      <td>-106.0</td>\n",
       "      <td>-105.0</td>\n",
       "      <td>-107.0</td>\n",
       "      <td>-105.0</td>\n",
       "      <td>-114.0</td>\n",
       "      <td>-105.0</td>\n",
       "      <td>-108.0</td>\n",
       "      <td>-106.0</td>\n",
       "      <td>-108.0</td>\n",
       "      <td>-104.0</td>\n",
       "      <td>84200000.0</td>\n",
       "    </tr>\n",
       "    <tr>\n",
       "      <th>2</th>\n",
       "      <td>1</td>\n",
       "      <td>-47.1</td>\n",
       "      <td>-53.9</td>\n",
       "      <td>-52.2</td>\n",
       "      <td>-39.8</td>\n",
       "      <td>-49.9</td>\n",
       "      <td>-48.1</td>\n",
       "      <td>-52.5</td>\n",
       "      <td>-53.4</td>\n",
       "      <td>-53.9</td>\n",
       "      <td>-51.4</td>\n",
       "      <td>-40.9</td>\n",
       "      <td>88300000.0</td>\n",
       "    </tr>\n",
       "    <tr>\n",
       "      <th>3</th>\n",
       "      <td>0</td>\n",
       "      <td>-65.7</td>\n",
       "      <td>-77.6</td>\n",
       "      <td>-71.7</td>\n",
       "      <td>-73.8</td>\n",
       "      <td>-71.9</td>\n",
       "      <td>-67.9</td>\n",
       "      <td>-77.8</td>\n",
       "      <td>-66.7</td>\n",
       "      <td>-69.7</td>\n",
       "      <td>-65.9</td>\n",
       "      <td>-70.2</td>\n",
       "      <td>92500000.0</td>\n",
       "    </tr>\n",
       "    <tr>\n",
       "      <th>4</th>\n",
       "      <td>0</td>\n",
       "      <td>-90.8</td>\n",
       "      <td>-85.9</td>\n",
       "      <td>-88.5</td>\n",
       "      <td>-88.5</td>\n",
       "      <td>-88.7</td>\n",
       "      <td>-98.7</td>\n",
       "      <td>-101.0</td>\n",
       "      <td>-96.9</td>\n",
       "      <td>-96.6</td>\n",
       "      <td>-96.3</td>\n",
       "      <td>-98.8</td>\n",
       "      <td>96700000.0</td>\n",
       "    </tr>\n",
       "  </tbody>\n",
       "</table>\n",
       "</div>"
      ],
      "text/plain": [
       "   Spectrum_hole  power_1  power_2  power_3  power_4  power_5  power_6  \\\n",
       "0              1   -107.0   -106.0   -108.0   -109.0   -108.0   -104.0   \n",
       "1              1   -107.0   -106.0   -105.0   -107.0   -105.0   -114.0   \n",
       "2              1    -47.1    -53.9    -52.2    -39.8    -49.9    -48.1   \n",
       "3              0    -65.7    -77.6    -71.7    -73.8    -71.9    -67.9   \n",
       "4              0    -90.8    -85.9    -88.5    -88.5    -88.7    -98.7   \n",
       "\n",
       "   power_7  power_8  power_9  power_10  power_11  freq_in_Hz  \n",
       "0   -107.0   -106.0   -108.0    -104.0    -104.0  80000000.0  \n",
       "1   -105.0   -108.0   -106.0    -108.0    -104.0  84200000.0  \n",
       "2    -52.5    -53.4    -53.9     -51.4     -40.9  88300000.0  \n",
       "3    -77.8    -66.7    -69.7     -65.9     -70.2  92500000.0  \n",
       "4   -101.0    -96.9    -96.6     -96.3     -98.8  96700000.0  "
      ]
     },
     "execution_count": 10,
     "metadata": {},
     "output_type": "execute_result"
    }
   ],
   "source": [
    "df = reg_data.copy()\n",
    "\n",
    "df.head()"
   ]
  },
  {
   "cell_type": "code",
   "execution_count": 11,
   "id": "956955a1",
   "metadata": {},
   "outputs": [
    {
     "data": {
      "text/plain": [
       "(461, 13)"
      ]
     },
     "execution_count": 11,
     "metadata": {},
     "output_type": "execute_result"
    }
   ],
   "source": [
    "df.shape"
   ]
  },
  {
   "cell_type": "code",
   "execution_count": 12,
   "id": "37ad28ef",
   "metadata": {},
   "outputs": [
    {
     "name": "stdout",
     "output_type": "stream",
     "text": [
      "<class 'pandas.core.frame.DataFrame'>\n",
      "RangeIndex: 461 entries, 0 to 460\n",
      "Data columns (total 13 columns):\n",
      " #   Column         Non-Null Count  Dtype  \n",
      "---  ------         --------------  -----  \n",
      " 0   Spectrum_hole  461 non-null    int64  \n",
      " 1   power_1        461 non-null    float64\n",
      " 2   power_2        461 non-null    float64\n",
      " 3   power_3        461 non-null    float64\n",
      " 4   power_4        461 non-null    float64\n",
      " 5   power_5        461 non-null    float64\n",
      " 6   power_6        461 non-null    float64\n",
      " 7   power_7        461 non-null    float64\n",
      " 8   power_8        461 non-null    float64\n",
      " 9   power_9        461 non-null    float64\n",
      " 10  power_10       461 non-null    float64\n",
      " 11  power_11       461 non-null    float64\n",
      " 12  freq_in_Hz     461 non-null    float64\n",
      "dtypes: float64(12), int64(1)\n",
      "memory usage: 46.9 KB\n"
     ]
    }
   ],
   "source": [
    "df.info()"
   ]
  },
  {
   "cell_type": "code",
   "execution_count": 13,
   "id": "7d36272d",
   "metadata": {},
   "outputs": [
    {
     "data": {
      "text/html": [
       "<div>\n",
       "<style scoped>\n",
       "    .dataframe tbody tr th:only-of-type {\n",
       "        vertical-align: middle;\n",
       "    }\n",
       "\n",
       "    .dataframe tbody tr th {\n",
       "        vertical-align: top;\n",
       "    }\n",
       "\n",
       "    .dataframe thead th {\n",
       "        text-align: right;\n",
       "    }\n",
       "</style>\n",
       "<table border=\"1\" class=\"dataframe\">\n",
       "  <thead>\n",
       "    <tr style=\"text-align: right;\">\n",
       "      <th></th>\n",
       "      <th>Spectrum_hole</th>\n",
       "      <th>power_1</th>\n",
       "      <th>power_2</th>\n",
       "      <th>power_3</th>\n",
       "      <th>power_4</th>\n",
       "      <th>power_5</th>\n",
       "      <th>power_6</th>\n",
       "      <th>power_7</th>\n",
       "      <th>power_8</th>\n",
       "      <th>power_9</th>\n",
       "      <th>power_10</th>\n",
       "      <th>power_11</th>\n",
       "      <th>freq_in_Hz</th>\n",
       "    </tr>\n",
       "  </thead>\n",
       "  <tbody>\n",
       "    <tr>\n",
       "      <th>count</th>\n",
       "      <td>461.000000</td>\n",
       "      <td>461.000000</td>\n",
       "      <td>461.000000</td>\n",
       "      <td>461.000000</td>\n",
       "      <td>461.000000</td>\n",
       "      <td>461.000000</td>\n",
       "      <td>461.000000</td>\n",
       "      <td>461.000000</td>\n",
       "      <td>461.000000</td>\n",
       "      <td>461.000000</td>\n",
       "      <td>461.000000</td>\n",
       "      <td>461.000000</td>\n",
       "      <td>4.610000e+02</td>\n",
       "    </tr>\n",
       "    <tr>\n",
       "      <th>mean</th>\n",
       "      <td>0.908894</td>\n",
       "      <td>-113.576356</td>\n",
       "      <td>-113.761822</td>\n",
       "      <td>-113.875271</td>\n",
       "      <td>-113.842950</td>\n",
       "      <td>-113.827983</td>\n",
       "      <td>-113.171584</td>\n",
       "      <td>-113.222126</td>\n",
       "      <td>-112.933623</td>\n",
       "      <td>-112.983514</td>\n",
       "      <td>-112.727115</td>\n",
       "      <td>-112.667462</td>\n",
       "      <td>1.039995e+09</td>\n",
       "    </tr>\n",
       "    <tr>\n",
       "      <th>std</th>\n",
       "      <td>0.288073</td>\n",
       "      <td>11.947493</td>\n",
       "      <td>10.880240</td>\n",
       "      <td>10.845652</td>\n",
       "      <td>11.210501</td>\n",
       "      <td>11.000001</td>\n",
       "      <td>11.406598</td>\n",
       "      <td>11.216933</td>\n",
       "      <td>11.418220</td>\n",
       "      <td>11.353344</td>\n",
       "      <td>11.493513</td>\n",
       "      <td>11.686593</td>\n",
       "      <td>5.560486e+08</td>\n",
       "    </tr>\n",
       "    <tr>\n",
       "      <th>min</th>\n",
       "      <td>0.000000</td>\n",
       "      <td>-172.000000</td>\n",
       "      <td>-120.000000</td>\n",
       "      <td>-120.000000</td>\n",
       "      <td>-119.000000</td>\n",
       "      <td>-120.000000</td>\n",
       "      <td>-120.000000</td>\n",
       "      <td>-120.000000</td>\n",
       "      <td>-119.000000</td>\n",
       "      <td>-119.000000</td>\n",
       "      <td>-119.000000</td>\n",
       "      <td>-119.000000</td>\n",
       "      <td>8.000000e+07</td>\n",
       "    </tr>\n",
       "    <tr>\n",
       "      <th>25%</th>\n",
       "      <td>1.000000</td>\n",
       "      <td>-119.000000</td>\n",
       "      <td>-119.000000</td>\n",
       "      <td>-119.000000</td>\n",
       "      <td>-119.000000</td>\n",
       "      <td>-118.000000</td>\n",
       "      <td>-118.000000</td>\n",
       "      <td>-118.000000</td>\n",
       "      <td>-118.000000</td>\n",
       "      <td>-118.000000</td>\n",
       "      <td>-118.000000</td>\n",
       "      <td>-118.000000</td>\n",
       "      <td>5.600000e+08</td>\n",
       "    </tr>\n",
       "    <tr>\n",
       "      <th>50%</th>\n",
       "      <td>1.000000</td>\n",
       "      <td>-118.000000</td>\n",
       "      <td>-118.000000</td>\n",
       "      <td>-118.000000</td>\n",
       "      <td>-118.000000</td>\n",
       "      <td>-118.000000</td>\n",
       "      <td>-118.000000</td>\n",
       "      <td>-118.000000</td>\n",
       "      <td>-118.000000</td>\n",
       "      <td>-118.000000</td>\n",
       "      <td>-118.000000</td>\n",
       "      <td>-118.000000</td>\n",
       "      <td>1.040000e+09</td>\n",
       "    </tr>\n",
       "    <tr>\n",
       "      <th>75%</th>\n",
       "      <td>1.000000</td>\n",
       "      <td>-117.000000</td>\n",
       "      <td>-117.000000</td>\n",
       "      <td>-117.000000</td>\n",
       "      <td>-117.000000</td>\n",
       "      <td>-117.000000</td>\n",
       "      <td>-117.000000</td>\n",
       "      <td>-117.000000</td>\n",
       "      <td>-116.000000</td>\n",
       "      <td>-116.000000</td>\n",
       "      <td>-116.000000</td>\n",
       "      <td>-116.000000</td>\n",
       "      <td>1.520000e+09</td>\n",
       "    </tr>\n",
       "    <tr>\n",
       "      <th>max</th>\n",
       "      <td>1.000000</td>\n",
       "      <td>-47.100000</td>\n",
       "      <td>-53.900000</td>\n",
       "      <td>-52.200000</td>\n",
       "      <td>-39.800000</td>\n",
       "      <td>-49.900000</td>\n",
       "      <td>-48.100000</td>\n",
       "      <td>-52.500000</td>\n",
       "      <td>-53.400000</td>\n",
       "      <td>-53.900000</td>\n",
       "      <td>-51.400000</td>\n",
       "      <td>-40.900000</td>\n",
       "      <td>2.000000e+09</td>\n",
       "    </tr>\n",
       "  </tbody>\n",
       "</table>\n",
       "</div>"
      ],
      "text/plain": [
       "       Spectrum_hole     power_1     power_2     power_3     power_4  \\\n",
       "count     461.000000  461.000000  461.000000  461.000000  461.000000   \n",
       "mean        0.908894 -113.576356 -113.761822 -113.875271 -113.842950   \n",
       "std         0.288073   11.947493   10.880240   10.845652   11.210501   \n",
       "min         0.000000 -172.000000 -120.000000 -120.000000 -119.000000   \n",
       "25%         1.000000 -119.000000 -119.000000 -119.000000 -119.000000   \n",
       "50%         1.000000 -118.000000 -118.000000 -118.000000 -118.000000   \n",
       "75%         1.000000 -117.000000 -117.000000 -117.000000 -117.000000   \n",
       "max         1.000000  -47.100000  -53.900000  -52.200000  -39.800000   \n",
       "\n",
       "          power_5     power_6     power_7     power_8     power_9    power_10  \\\n",
       "count  461.000000  461.000000  461.000000  461.000000  461.000000  461.000000   \n",
       "mean  -113.827983 -113.171584 -113.222126 -112.933623 -112.983514 -112.727115   \n",
       "std     11.000001   11.406598   11.216933   11.418220   11.353344   11.493513   \n",
       "min   -120.000000 -120.000000 -120.000000 -119.000000 -119.000000 -119.000000   \n",
       "25%   -118.000000 -118.000000 -118.000000 -118.000000 -118.000000 -118.000000   \n",
       "50%   -118.000000 -118.000000 -118.000000 -118.000000 -118.000000 -118.000000   \n",
       "75%   -117.000000 -117.000000 -117.000000 -116.000000 -116.000000 -116.000000   \n",
       "max    -49.900000  -48.100000  -52.500000  -53.400000  -53.900000  -51.400000   \n",
       "\n",
       "         power_11    freq_in_Hz  \n",
       "count  461.000000  4.610000e+02  \n",
       "mean  -112.667462  1.039995e+09  \n",
       "std     11.686593  5.560486e+08  \n",
       "min   -119.000000  8.000000e+07  \n",
       "25%   -118.000000  5.600000e+08  \n",
       "50%   -118.000000  1.040000e+09  \n",
       "75%   -116.000000  1.520000e+09  \n",
       "max    -40.900000  2.000000e+09  "
      ]
     },
     "execution_count": 13,
     "metadata": {},
     "output_type": "execute_result"
    }
   ],
   "source": [
    "df.describe()"
   ]
  },
  {
   "cell_type": "markdown",
   "id": "2e43aaa1",
   "metadata": {},
   "source": [
    "### check for missing values"
   ]
  },
  {
   "cell_type": "code",
   "execution_count": 14,
   "id": "7681254f",
   "metadata": {},
   "outputs": [
    {
     "data": {
      "text/plain": [
       "Spectrum_hole    0\n",
       "power_1          0\n",
       "power_2          0\n",
       "power_3          0\n",
       "power_4          0\n",
       "power_5          0\n",
       "power_6          0\n",
       "power_7          0\n",
       "power_8          0\n",
       "power_9          0\n",
       "power_10         0\n",
       "power_11         0\n",
       "freq_in_Hz       0\n",
       "dtype: int64"
      ]
     },
     "execution_count": 14,
     "metadata": {},
     "output_type": "execute_result"
    }
   ],
   "source": [
    "df.isna().sum()"
   ]
  },
  {
   "cell_type": "markdown",
   "id": "7cdd44e0",
   "metadata": {},
   "source": [
    "### Reordering columns"
   ]
  },
  {
   "cell_type": "code",
   "execution_count": 15,
   "id": "8af8ce77",
   "metadata": {},
   "outputs": [
    {
     "data": {
      "text/html": [
       "<div>\n",
       "<style scoped>\n",
       "    .dataframe tbody tr th:only-of-type {\n",
       "        vertical-align: middle;\n",
       "    }\n",
       "\n",
       "    .dataframe tbody tr th {\n",
       "        vertical-align: top;\n",
       "    }\n",
       "\n",
       "    .dataframe thead th {\n",
       "        text-align: right;\n",
       "    }\n",
       "</style>\n",
       "<table border=\"1\" class=\"dataframe\">\n",
       "  <thead>\n",
       "    <tr style=\"text-align: right;\">\n",
       "      <th></th>\n",
       "      <th>power_1</th>\n",
       "      <th>power_2</th>\n",
       "      <th>power_3</th>\n",
       "      <th>power_4</th>\n",
       "      <th>power_5</th>\n",
       "      <th>power_6</th>\n",
       "      <th>power_7</th>\n",
       "      <th>power_8</th>\n",
       "      <th>power_9</th>\n",
       "      <th>power_10</th>\n",
       "      <th>power_11</th>\n",
       "      <th>freq_in_Hz</th>\n",
       "      <th>Spectrum_hole</th>\n",
       "    </tr>\n",
       "  </thead>\n",
       "  <tbody>\n",
       "    <tr>\n",
       "      <th>0</th>\n",
       "      <td>-107.0</td>\n",
       "      <td>-106.0</td>\n",
       "      <td>-108.0</td>\n",
       "      <td>-109.0</td>\n",
       "      <td>-108.0</td>\n",
       "      <td>-104.0</td>\n",
       "      <td>-107.0</td>\n",
       "      <td>-106.0</td>\n",
       "      <td>-108.0</td>\n",
       "      <td>-104.0</td>\n",
       "      <td>-104.0</td>\n",
       "      <td>80000000.0</td>\n",
       "      <td>1</td>\n",
       "    </tr>\n",
       "    <tr>\n",
       "      <th>1</th>\n",
       "      <td>-107.0</td>\n",
       "      <td>-106.0</td>\n",
       "      <td>-105.0</td>\n",
       "      <td>-107.0</td>\n",
       "      <td>-105.0</td>\n",
       "      <td>-114.0</td>\n",
       "      <td>-105.0</td>\n",
       "      <td>-108.0</td>\n",
       "      <td>-106.0</td>\n",
       "      <td>-108.0</td>\n",
       "      <td>-104.0</td>\n",
       "      <td>84200000.0</td>\n",
       "      <td>1</td>\n",
       "    </tr>\n",
       "    <tr>\n",
       "      <th>2</th>\n",
       "      <td>-47.1</td>\n",
       "      <td>-53.9</td>\n",
       "      <td>-52.2</td>\n",
       "      <td>-39.8</td>\n",
       "      <td>-49.9</td>\n",
       "      <td>-48.1</td>\n",
       "      <td>-52.5</td>\n",
       "      <td>-53.4</td>\n",
       "      <td>-53.9</td>\n",
       "      <td>-51.4</td>\n",
       "      <td>-40.9</td>\n",
       "      <td>88300000.0</td>\n",
       "      <td>1</td>\n",
       "    </tr>\n",
       "    <tr>\n",
       "      <th>3</th>\n",
       "      <td>-65.7</td>\n",
       "      <td>-77.6</td>\n",
       "      <td>-71.7</td>\n",
       "      <td>-73.8</td>\n",
       "      <td>-71.9</td>\n",
       "      <td>-67.9</td>\n",
       "      <td>-77.8</td>\n",
       "      <td>-66.7</td>\n",
       "      <td>-69.7</td>\n",
       "      <td>-65.9</td>\n",
       "      <td>-70.2</td>\n",
       "      <td>92500000.0</td>\n",
       "      <td>0</td>\n",
       "    </tr>\n",
       "    <tr>\n",
       "      <th>4</th>\n",
       "      <td>-90.8</td>\n",
       "      <td>-85.9</td>\n",
       "      <td>-88.5</td>\n",
       "      <td>-88.5</td>\n",
       "      <td>-88.7</td>\n",
       "      <td>-98.7</td>\n",
       "      <td>-101.0</td>\n",
       "      <td>-96.9</td>\n",
       "      <td>-96.6</td>\n",
       "      <td>-96.3</td>\n",
       "      <td>-98.8</td>\n",
       "      <td>96700000.0</td>\n",
       "      <td>0</td>\n",
       "    </tr>\n",
       "  </tbody>\n",
       "</table>\n",
       "</div>"
      ],
      "text/plain": [
       "   power_1  power_2  power_3  power_4  power_5  power_6  power_7  power_8  \\\n",
       "0   -107.0   -106.0   -108.0   -109.0   -108.0   -104.0   -107.0   -106.0   \n",
       "1   -107.0   -106.0   -105.0   -107.0   -105.0   -114.0   -105.0   -108.0   \n",
       "2    -47.1    -53.9    -52.2    -39.8    -49.9    -48.1    -52.5    -53.4   \n",
       "3    -65.7    -77.6    -71.7    -73.8    -71.9    -67.9    -77.8    -66.7   \n",
       "4    -90.8    -85.9    -88.5    -88.5    -88.7    -98.7   -101.0    -96.9   \n",
       "\n",
       "   power_9  power_10  power_11  freq_in_Hz  Spectrum_hole  \n",
       "0   -108.0    -104.0    -104.0  80000000.0              1  \n",
       "1   -106.0    -108.0    -104.0  84200000.0              1  \n",
       "2    -53.9     -51.4     -40.9  88300000.0              1  \n",
       "3    -69.7     -65.9     -70.2  92500000.0              0  \n",
       "4    -96.6     -96.3     -98.8  96700000.0              0  "
      ]
     },
     "execution_count": 15,
     "metadata": {},
     "output_type": "execute_result"
    }
   ],
   "source": [
    "columns = ['power_1', 'power_2', 'power_3', 'power_4',\n",
    "       'power_5', 'power_6', 'power_7', 'power_8', 'power_9', 'power_10',\n",
    "       'power_11', 'freq_in_Hz', 'Spectrum_hole']\n",
    "df = data[columns]\n",
    "df.head()"
   ]
  },
  {
   "cell_type": "markdown",
   "id": "e5229f03",
   "metadata": {},
   "source": [
    "### Target"
   ]
  },
  {
   "cell_type": "code",
   "execution_count": 16,
   "id": "d2b73935",
   "metadata": {},
   "outputs": [
    {
     "data": {
      "text/plain": [
       "1    419\n",
       "0     42\n",
       "Name: Spectrum_hole, dtype: int64"
      ]
     },
     "execution_count": 16,
     "metadata": {},
     "output_type": "execute_result"
    }
   ],
   "source": [
    "df['Spectrum_hole'].value_counts()"
   ]
  },
  {
   "cell_type": "code",
   "execution_count": 17,
   "id": "247e4cb1",
   "metadata": {},
   "outputs": [],
   "source": [
    "from imblearn.over_sampling import SMOTE\n",
    "from collections import Counter"
   ]
  },
  {
   "cell_type": "code",
   "execution_count": 18,
   "id": "95120e0e",
   "metadata": {},
   "outputs": [],
   "source": [
    "X = df.iloc[:, :-1]\n",
    "y = df.iloc[:, -1]"
   ]
  },
  {
   "cell_type": "code",
   "execution_count": 19,
   "id": "de602aac",
   "metadata": {},
   "outputs": [
    {
     "data": {
      "text/html": [
       "<div>\n",
       "<style scoped>\n",
       "    .dataframe tbody tr th:only-of-type {\n",
       "        vertical-align: middle;\n",
       "    }\n",
       "\n",
       "    .dataframe tbody tr th {\n",
       "        vertical-align: top;\n",
       "    }\n",
       "\n",
       "    .dataframe thead th {\n",
       "        text-align: right;\n",
       "    }\n",
       "</style>\n",
       "<table border=\"1\" class=\"dataframe\">\n",
       "  <thead>\n",
       "    <tr style=\"text-align: right;\">\n",
       "      <th></th>\n",
       "      <th>power_1</th>\n",
       "      <th>power_2</th>\n",
       "      <th>power_3</th>\n",
       "      <th>power_4</th>\n",
       "      <th>power_5</th>\n",
       "      <th>power_6</th>\n",
       "      <th>power_7</th>\n",
       "      <th>power_8</th>\n",
       "      <th>power_9</th>\n",
       "      <th>power_10</th>\n",
       "      <th>power_11</th>\n",
       "      <th>freq_in_Hz</th>\n",
       "    </tr>\n",
       "  </thead>\n",
       "  <tbody>\n",
       "    <tr>\n",
       "      <th>0</th>\n",
       "      <td>-107.0</td>\n",
       "      <td>-106.0</td>\n",
       "      <td>-108.0</td>\n",
       "      <td>-109.0</td>\n",
       "      <td>-108.0</td>\n",
       "      <td>-104.0</td>\n",
       "      <td>-107.0</td>\n",
       "      <td>-106.0</td>\n",
       "      <td>-108.0</td>\n",
       "      <td>-104.0</td>\n",
       "      <td>-104.0</td>\n",
       "      <td>80000000.0</td>\n",
       "    </tr>\n",
       "    <tr>\n",
       "      <th>1</th>\n",
       "      <td>-107.0</td>\n",
       "      <td>-106.0</td>\n",
       "      <td>-105.0</td>\n",
       "      <td>-107.0</td>\n",
       "      <td>-105.0</td>\n",
       "      <td>-114.0</td>\n",
       "      <td>-105.0</td>\n",
       "      <td>-108.0</td>\n",
       "      <td>-106.0</td>\n",
       "      <td>-108.0</td>\n",
       "      <td>-104.0</td>\n",
       "      <td>84200000.0</td>\n",
       "    </tr>\n",
       "    <tr>\n",
       "      <th>2</th>\n",
       "      <td>-47.1</td>\n",
       "      <td>-53.9</td>\n",
       "      <td>-52.2</td>\n",
       "      <td>-39.8</td>\n",
       "      <td>-49.9</td>\n",
       "      <td>-48.1</td>\n",
       "      <td>-52.5</td>\n",
       "      <td>-53.4</td>\n",
       "      <td>-53.9</td>\n",
       "      <td>-51.4</td>\n",
       "      <td>-40.9</td>\n",
       "      <td>88300000.0</td>\n",
       "    </tr>\n",
       "    <tr>\n",
       "      <th>3</th>\n",
       "      <td>-65.7</td>\n",
       "      <td>-77.6</td>\n",
       "      <td>-71.7</td>\n",
       "      <td>-73.8</td>\n",
       "      <td>-71.9</td>\n",
       "      <td>-67.9</td>\n",
       "      <td>-77.8</td>\n",
       "      <td>-66.7</td>\n",
       "      <td>-69.7</td>\n",
       "      <td>-65.9</td>\n",
       "      <td>-70.2</td>\n",
       "      <td>92500000.0</td>\n",
       "    </tr>\n",
       "    <tr>\n",
       "      <th>4</th>\n",
       "      <td>-90.8</td>\n",
       "      <td>-85.9</td>\n",
       "      <td>-88.5</td>\n",
       "      <td>-88.5</td>\n",
       "      <td>-88.7</td>\n",
       "      <td>-98.7</td>\n",
       "      <td>-101.0</td>\n",
       "      <td>-96.9</td>\n",
       "      <td>-96.6</td>\n",
       "      <td>-96.3</td>\n",
       "      <td>-98.8</td>\n",
       "      <td>96700000.0</td>\n",
       "    </tr>\n",
       "  </tbody>\n",
       "</table>\n",
       "</div>"
      ],
      "text/plain": [
       "   power_1  power_2  power_3  power_4  power_5  power_6  power_7  power_8  \\\n",
       "0   -107.0   -106.0   -108.0   -109.0   -108.0   -104.0   -107.0   -106.0   \n",
       "1   -107.0   -106.0   -105.0   -107.0   -105.0   -114.0   -105.0   -108.0   \n",
       "2    -47.1    -53.9    -52.2    -39.8    -49.9    -48.1    -52.5    -53.4   \n",
       "3    -65.7    -77.6    -71.7    -73.8    -71.9    -67.9    -77.8    -66.7   \n",
       "4    -90.8    -85.9    -88.5    -88.5    -88.7    -98.7   -101.0    -96.9   \n",
       "\n",
       "   power_9  power_10  power_11  freq_in_Hz  \n",
       "0   -108.0    -104.0    -104.0  80000000.0  \n",
       "1   -106.0    -108.0    -104.0  84200000.0  \n",
       "2    -53.9     -51.4     -40.9  88300000.0  \n",
       "3    -69.7     -65.9     -70.2  92500000.0  \n",
       "4    -96.6     -96.3     -98.8  96700000.0  "
      ]
     },
     "execution_count": 19,
     "metadata": {},
     "output_type": "execute_result"
    }
   ],
   "source": [
    "X.head()"
   ]
  },
  {
   "cell_type": "code",
   "execution_count": 20,
   "id": "7119df04",
   "metadata": {},
   "outputs": [
    {
     "name": "stdout",
     "output_type": "stream",
     "text": [
      "Counter({1: 419, 0: 42})\n"
     ]
    }
   ],
   "source": [
    "counter = Counter(y)\n",
    "print(counter)"
   ]
  },
  {
   "cell_type": "code",
   "execution_count": 21,
   "id": "67c1b03e",
   "metadata": {},
   "outputs": [
    {
     "name": "stdout",
     "output_type": "stream",
     "text": [
      "Counter({1: 419, 0: 419})\n"
     ]
    }
   ],
   "source": [
    "oversample = SMOTE()\n",
    "X, y = oversample.fit_resample(X,y)\n",
    "counter = Counter(y)\n",
    "print(counter)"
   ]
  },
  {
   "cell_type": "markdown",
   "id": "0a1133fa",
   "metadata": {},
   "source": [
    "### Feature Scaling"
   ]
  },
  {
   "cell_type": "code",
   "execution_count": 22,
   "id": "c7a5818e",
   "metadata": {},
   "outputs": [],
   "source": [
    "from sklearn.preprocessing import StandardScaler"
   ]
  },
  {
   "cell_type": "code",
   "execution_count": 23,
   "id": "b0661a9f",
   "metadata": {},
   "outputs": [
    {
     "data": {
      "text/plain": [
       "array([[-2.41562424e-01, -8.89388560e-02, -1.91055591e-01,\n",
       "        -2.61861153e-01, -2.00911856e-01, -1.21984823e-01,\n",
       "        -3.04440634e-01, -2.60593228e-01, -3.82288009e-01,\n",
       "        -1.54998634e-01, -1.36101684e-01, -1.46202925e+00],\n",
       "       [-2.41562424e-01, -8.89388560e-02,  6.38364426e-04,\n",
       "        -1.37845503e-01, -1.39530477e-02, -7.40341418e-01,\n",
       "        -1.80116697e-01, -3.85083485e-01, -2.58139236e-01,\n",
       "        -4.00909426e-01, -1.36101684e-01, -1.45381990e+00],\n",
       "       [ 3.18484953e+00,  3.20298533e+00,  3.37445198e+00,\n",
       "         4.02908033e+00,  3.41985706e+00,  3.33462855e+00,\n",
       "         3.08338663e+00,  3.01350054e+00,  2.97593631e+00,\n",
       "         3.07872827e+00,  3.80290490e+00, -1.44580600e+00],\n",
       "       [ 2.12088855e+00,  1.70550734e+00,  2.12844127e+00,\n",
       "         1.92081428e+00,  2.04882580e+00,  2.11028249e+00,\n",
       "         1.51068883e+00,  2.18564033e+00,  1.99516100e+00,\n",
       "         2.18730165e+00,  1.97385747e+00, -1.43759665e+00],\n",
       "       [ 6.85113261e-01,  1.18107412e+00,  1.05495512e+00,\n",
       "         1.00929926e+00,  1.00185648e+00,  2.05744173e-01,\n",
       "         6.85311748e-02,  3.05837444e-01,  3.25359999e-01,\n",
       "         3.18379639e-01,  1.88507416e-01, -1.42938730e+00],\n",
       "       [-3.95970561e+00,  8.39876605e-01,  1.09968371e+00,\n",
       "         1.05270474e+00,  1.06417608e+00,  8.17917203e-01,\n",
       "         6.83934659e-01,  4.36552214e-01,  3.25359999e-01,\n",
       "         3.61414027e-01,  6.81663550e-01, -1.42098248e+00],\n",
       "       [ 2.67537181e-01,  3.78628111e-01,  4.79873254e-01,\n",
       "         4.51228834e-01,  4.97067694e-01,  6.35221559e-02,\n",
       "        -2.42278665e-01, -2.60593228e-01, -1.96064849e-01,\n",
       "        -3.20432388e-02, -1.98526511e-01, -1.41316405e+00],\n",
       "       [ 8.85320971e-01,  7.64054935e-01,  7.48244792e-01,\n",
       "         7.11661698e-01,  6.77794542e-01,  1.12709550e+00,\n",
       "         7.52312823e-01,  5.23695394e-01,  6.48146809e-01,\n",
       "         4.16743955e-01,  5.11727971e-02, -1.40534562e+00],\n",
       "       [-7.56382250e-01, -7.20786109e-01, -8.93933429e-01,\n",
       "        -5.71900278e-01, -7.61788280e-01,  1.68649635e-03,\n",
       "        -8.63898346e-01, -6.34064000e-01, -6.92659943e-01,\n",
       "        -7.08297914e-01, -1.36101684e-01, -1.39752718e+00],\n",
       "       [-5.27573439e-01, -3.41677757e-01, -5.74443503e-01,\n",
       "        -5.09892453e-01, -5.12509869e-01, -8.02177078e-01,\n",
       "        -8.63898346e-01, -8.83044515e-01, -8.78883103e-01,\n",
       "        -8.92731008e-01, -1.01004926e+00, -1.38775414e+00]])"
      ]
     },
     "execution_count": 23,
     "metadata": {},
     "output_type": "execute_result"
    }
   ],
   "source": [
    "scaler = StandardScaler()\n",
    "scaler.fit(X)\n",
    "X_scaled = scaler.transform(X)\n",
    "X_scaled[:10]"
   ]
  },
  {
   "cell_type": "markdown",
   "id": "8eca5501",
   "metadata": {},
   "source": [
    "### Modeling and Evaluation"
   ]
  },
  {
   "cell_type": "code",
   "execution_count": 24,
   "id": "e4c49ac5",
   "metadata": {},
   "outputs": [],
   "source": [
    "from sklearn.model_selection import train_test_split\n",
    "from sklearn.linear_model import LinearRegression, LogisticRegression"
   ]
  },
  {
   "cell_type": "code",
   "execution_count": 25,
   "id": "84104a67",
   "metadata": {},
   "outputs": [],
   "source": [
    "X_train, X_test, y_train, y_test = train_test_split(X_scaled, y, test_size=0.2, random_state=42)"
   ]
  },
  {
   "cell_type": "code",
   "execution_count": 26,
   "id": "fef15d75",
   "metadata": {},
   "outputs": [],
   "source": [
    "clf = LogisticRegression()"
   ]
  },
  {
   "cell_type": "code",
   "execution_count": 27,
   "id": "bd9367d3",
   "metadata": {},
   "outputs": [
    {
     "data": {
      "text/plain": [
       "array([1, 0])"
      ]
     },
     "execution_count": 27,
     "metadata": {},
     "output_type": "execute_result"
    }
   ],
   "source": [
    "y.unique()"
   ]
  },
  {
   "cell_type": "code",
   "execution_count": 28,
   "id": "caa65873",
   "metadata": {},
   "outputs": [
    {
     "data": {
      "text/plain": [
       "LogisticRegression()"
      ]
     },
     "execution_count": 28,
     "metadata": {},
     "output_type": "execute_result"
    }
   ],
   "source": [
    "clf.fit(X_train, y_train)"
   ]
  },
  {
   "cell_type": "code",
   "execution_count": 29,
   "id": "a4ae7221",
   "metadata": {},
   "outputs": [
    {
     "data": {
      "text/plain": [
       "0.9345238095238095"
      ]
     },
     "execution_count": 29,
     "metadata": {},
     "output_type": "execute_result"
    }
   ],
   "source": [
    "clf.score(X_test, y_test)"
   ]
  },
  {
   "cell_type": "code",
   "execution_count": 30,
   "id": "feeeeeae",
   "metadata": {},
   "outputs": [
    {
     "data": {
      "text/plain": [
       "0.9686567164179104"
      ]
     },
     "execution_count": 30,
     "metadata": {},
     "output_type": "execute_result"
    }
   ],
   "source": [
    "clf.score(X_train, y_train)"
   ]
  },
  {
   "cell_type": "code",
   "execution_count": 31,
   "id": "feb323ff",
   "metadata": {},
   "outputs": [
    {
     "data": {
      "text/plain": [
       "array([0, 0, 1, 1, 0, 0, 0, 1, 0, 1])"
      ]
     },
     "execution_count": 31,
     "metadata": {},
     "output_type": "execute_result"
    }
   ],
   "source": [
    "y_preds = clf.predict(X_test)\n",
    "y_preds[:10]"
   ]
  },
  {
   "cell_type": "markdown",
   "id": "9b160695",
   "metadata": {},
   "source": [
    "### Regression model"
   ]
  },
  {
   "cell_type": "code",
   "execution_count": 32,
   "id": "f3c7e75b",
   "metadata": {},
   "outputs": [
    {
     "data": {
      "text/plain": [
       "array(['power_1', 'power_2', 'power_3', 'power_4', 'power_5', 'power_6',\n",
       "       'power_7', 'power_8', 'power_9', 'power_10', 'power_11',\n",
       "       'freq_in_Hz', 'Spectrum_hole'], dtype=object)"
      ]
     },
     "execution_count": 32,
     "metadata": {},
     "output_type": "execute_result"
    }
   ],
   "source": [
    "df.columns.values"
   ]
  },
  {
   "cell_type": "code",
   "execution_count": 33,
   "id": "e86fba98",
   "metadata": {},
   "outputs": [],
   "source": [
    "columns = ['power_1', 'power_2', 'power_3', 'power_4', 'power_5', 'power_6',\n",
    "       'power_7', 'power_8', 'power_9', 'power_10', 'power_11',\n",
    "       'freq_in_Hz']\n",
    "\n",
    "df_reg = df[columns]"
   ]
  },
  {
   "cell_type": "markdown",
   "id": "93ae4bc2",
   "metadata": {},
   "source": [
    "### Feature Scaling"
   ]
  },
  {
   "cell_type": "code",
   "execution_count": 34,
   "id": "727e3241",
   "metadata": {},
   "outputs": [],
   "source": [
    "X = df.iloc[:, :-1]\n",
    "y = df.iloc[:, -1]"
   ]
  },
  {
   "cell_type": "code",
   "execution_count": 35,
   "id": "5addc750",
   "metadata": {},
   "outputs": [],
   "source": [
    "sc = StandardScaler()\n",
    "sc.fit(X)\n",
    "X_sc = sc.transform(X)"
   ]
  },
  {
   "cell_type": "code",
   "execution_count": 36,
   "id": "e808b6b0",
   "metadata": {},
   "outputs": [],
   "source": [
    "X_train, X_test, y_train, y_test = train_test_split(X_sc, y, test_size = 0.2, random_state=42)"
   ]
  },
  {
   "cell_type": "code",
   "execution_count": 37,
   "id": "7efbe659",
   "metadata": {},
   "outputs": [
    {
     "data": {
      "text/plain": [
       "LinearRegression()"
      ]
     },
     "execution_count": 37,
     "metadata": {},
     "output_type": "execute_result"
    }
   ],
   "source": [
    "lin_reg = LinearRegression()\n",
    "lin_reg.fit(X_train, y_train)"
   ]
  },
  {
   "cell_type": "code",
   "execution_count": 38,
   "id": "db350e5c",
   "metadata": {},
   "outputs": [
    {
     "data": {
      "text/plain": [
       "0.5121486157450708"
      ]
     },
     "execution_count": 38,
     "metadata": {},
     "output_type": "execute_result"
    }
   ],
   "source": [
    "lin_reg.score(X_test, y_test)"
   ]
  },
  {
   "cell_type": "code",
   "execution_count": 39,
   "id": "7e63d38e",
   "metadata": {},
   "outputs": [
    {
     "data": {
      "text/plain": [
       "0.5650845315300295"
      ]
     },
     "execution_count": 39,
     "metadata": {},
     "output_type": "execute_result"
    }
   ],
   "source": [
    "lin_reg.score(X_train, y_train)"
   ]
  },
  {
   "cell_type": "markdown",
   "id": "d1a5fe94",
   "metadata": {},
   "source": [
    "### Regularization of Regression model using LassoCV and RidgeCV"
   ]
  },
  {
   "cell_type": "code",
   "execution_count": 40,
   "id": "ebb7c94e",
   "metadata": {},
   "outputs": [],
   "source": [
    "from sklearn.linear_model import LassoCV, RidgeCV"
   ]
  },
  {
   "cell_type": "code",
   "execution_count": 41,
   "id": "7eab8557",
   "metadata": {},
   "outputs": [
    {
     "data": {
      "text/plain": [
       "LassoCV()"
      ]
     },
     "execution_count": 41,
     "metadata": {},
     "output_type": "execute_result"
    }
   ],
   "source": [
    "lasso = LassoCV()\n",
    "lasso.fit(X_train, y_train)"
   ]
  },
  {
   "cell_type": "code",
   "execution_count": 42,
   "id": "1a3219ef",
   "metadata": {},
   "outputs": [
    {
     "data": {
      "text/plain": [
       "0.5242537649841578"
      ]
     },
     "execution_count": 42,
     "metadata": {},
     "output_type": "execute_result"
    }
   ],
   "source": [
    "lasso.score(X_test, y_test)"
   ]
  },
  {
   "cell_type": "code",
   "execution_count": 43,
   "id": "5677294c",
   "metadata": {},
   "outputs": [
    {
     "data": {
      "text/plain": [
       "0.5640415191710589"
      ]
     },
     "execution_count": 43,
     "metadata": {},
     "output_type": "execute_result"
    }
   ],
   "source": [
    "lasso.score(X_train, y_train)"
   ]
  },
  {
   "cell_type": "code",
   "execution_count": 44,
   "id": "84f16661",
   "metadata": {},
   "outputs": [
    {
     "data": {
      "text/plain": [
       "0.5720369849117442"
      ]
     },
     "execution_count": 44,
     "metadata": {},
     "output_type": "execute_result"
    }
   ],
   "source": [
    "ridge = RidgeCV()\n",
    "ridge.fit(X_train, y_train)\n",
    "ridge.score(X_test, y_test)"
   ]
  },
  {
   "cell_type": "code",
   "execution_count": 45,
   "id": "74a63583",
   "metadata": {},
   "outputs": [
    {
     "data": {
      "text/plain": [
       "0.5487889647928301"
      ]
     },
     "execution_count": 45,
     "metadata": {},
     "output_type": "execute_result"
    }
   ],
   "source": [
    "ridge.score(X_train, y_train)"
   ]
  },
  {
   "cell_type": "code",
   "execution_count": null,
   "id": "afb99467",
   "metadata": {},
   "outputs": [],
   "source": []
  }
 ],
 "metadata": {
  "kernelspec": {
   "display_name": "Python 3 (ipykernel)",
   "language": "python",
   "name": "python3"
  },
  "language_info": {
   "codemirror_mode": {
    "name": "ipython",
    "version": 3
   },
   "file_extension": ".py",
   "mimetype": "text/x-python",
   "name": "python",
   "nbconvert_exporter": "python",
   "pygments_lexer": "ipython3",
   "version": "3.9.12"
  }
 },
 "nbformat": 4,
 "nbformat_minor": 5
}
