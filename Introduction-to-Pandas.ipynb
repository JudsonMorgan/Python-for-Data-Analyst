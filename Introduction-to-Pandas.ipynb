{
 "cells": [
  {
   "cell_type": "code",
   "execution_count": 75,
   "metadata": {},
   "outputs": [
    {
     "name": "stdout",
     "output_type": "stream",
     "text": [
      "Requirement already satisfied: pandas in /opt/anaconda3/lib/python3.9/site-packages (1.4.2)\n",
      "Requirement already satisfied: python-dateutil>=2.8.1 in /opt/anaconda3/lib/python3.9/site-packages (from pandas) (2.8.2)\n",
      "Requirement already satisfied: pytz>=2020.1 in /opt/anaconda3/lib/python3.9/site-packages (from pandas) (2021.3)\n",
      "Requirement already satisfied: numpy>=1.18.5 in /opt/anaconda3/lib/python3.9/site-packages (from pandas) (1.21.5)\n",
      "Requirement already satisfied: six>=1.5 in /opt/anaconda3/lib/python3.9/site-packages (from python-dateutil>=2.8.1->pandas) (1.16.0)\n"
     ]
    }
   ],
   "source": [
    "#install the pandas package\n",
    "! pip install pandas"
   ]
  },
  {
   "cell_type": "code",
   "execution_count": 76,
   "metadata": {},
   "outputs": [
    {
     "data": {
      "text/plain": [
       "'1.4.2'"
      ]
     },
     "execution_count": 76,
     "metadata": {},
     "output_type": "execute_result"
    }
   ],
   "source": [
    "#check the version of pandas\n",
    "import pandas \n",
    "pandas.__version__"
   ]
  },
  {
   "cell_type": "code",
   "execution_count": 77,
   "metadata": {},
   "outputs": [],
   "source": [
    "#using the convention to import pandas\n",
    "import pandas as pd"
   ]
  },
  {
   "cell_type": "code",
   "execution_count": 78,
   "metadata": {},
   "outputs": [
    {
     "data": {
      "text/plain": [
       "'1.4.2'"
      ]
     },
     "execution_count": 78,
     "metadata": {},
     "output_type": "execute_result"
    }
   ],
   "source": [
    "pd.__version__"
   ]
  },
  {
   "cell_type": "markdown",
   "metadata": {},
   "source": [
    "### Pandas Data types\n",
    "\n",
    "- Series\n",
    "- DataFrame\n",
    "- Index"
   ]
  },
  {
   "cell_type": "markdown",
   "metadata": {},
   "source": [
    "### Creating a Pandas Series"
   ]
  },
  {
   "cell_type": "code",
   "execution_count": 79,
   "metadata": {},
   "outputs": [
    {
     "data": {
      "text/plain": [
       "A           Toyota\n",
       "B    Mercedes Benz\n",
       "C           Nissan\n",
       "D          Bentley\n",
       "Name: Cars, dtype: object"
      ]
     },
     "execution_count": 79,
     "metadata": {},
     "output_type": "execute_result"
    }
   ],
   "source": [
    "#creating a pandas series\n",
    "series_1 = pd.Series(data = [\"Toyota\", \"Mercedes Benz\", \"Nissan\", \"Bentley\"],index = ['A', 'B', 'C', 'D'], name = \"Cars\")\n",
    "series_1"
   ]
  },
  {
   "cell_type": "code",
   "execution_count": 80,
   "metadata": {},
   "outputs": [
    {
     "data": {
      "text/plain": [
       "'Toyota'"
      ]
     },
     "execution_count": 80,
     "metadata": {},
     "output_type": "execute_result"
    }
   ],
   "source": [
    "series_1['A']"
   ]
  },
  {
   "cell_type": "code",
   "execution_count": 81,
   "metadata": {},
   "outputs": [
    {
     "data": {
      "text/plain": [
       "'Nissan'"
      ]
     },
     "execution_count": 81,
     "metadata": {},
     "output_type": "execute_result"
    }
   ],
   "source": [
    "series_1['C']"
   ]
  },
  {
   "cell_type": "code",
   "execution_count": 82,
   "metadata": {},
   "outputs": [
    {
     "data": {
      "text/plain": [
       "A    1\n",
       "B    2\n",
       "C    3\n",
       "D    4\n",
       "E    5\n",
       "Name: Integers, dtype: int64"
      ]
     },
     "execution_count": 82,
     "metadata": {},
     "output_type": "execute_result"
    }
   ],
   "source": [
    "series_2 = pd.Series(data = [1, 2, 3, 4, 5], index = ['A', 'B', 'C', 'D', 'E'], name = 'Integers', dtype = \"int64\")\n",
    "series_2"
   ]
  },
  {
   "cell_type": "code",
   "execution_count": 83,
   "metadata": {},
   "outputs": [
    {
     "name": "stdout",
     "output_type": "stream",
     "text": [
      "0    Elephant\n",
      "1      Pandas\n",
      "2         Cat\n",
      "3         Dog\n",
      "4     Leopard\n",
      "Name: Animal kingdom, dtype: object\n"
     ]
    }
   ],
   "source": [
    "Animals = ['Elephant', 'Pandas', 'Cat', 'Dog', 'Leopard'] #create a list of animals\n",
    "\n",
    "animal_series = pd.Series(data = Animals, name=\"Animal kingdom\")\n",
    "print(animal_series)"
   ]
  },
  {
   "cell_type": "code",
   "execution_count": 84,
   "metadata": {},
   "outputs": [
    {
     "data": {
      "text/plain": [
       "'Elephant'"
      ]
     },
     "execution_count": 84,
     "metadata": {},
     "output_type": "execute_result"
    }
   ],
   "source": [
    "#accessing a series value\n",
    "animal_series[0]"
   ]
  },
  {
   "cell_type": "code",
   "execution_count": 85,
   "metadata": {},
   "outputs": [
    {
     "data": {
      "text/plain": [
       "Product A    22300\n",
       "Product B    32450\n",
       "Product C     5679\n",
       "Product D     6540\n",
       "Name: Category, dtype: int64"
      ]
     },
     "execution_count": 85,
     "metadata": {},
     "output_type": "execute_result"
    }
   ],
   "source": [
    "Items_dict = {'Product A' : 22300,\n",
    "             \"Product B\" : 32450,\n",
    "             \"Product C\" : 5679,\n",
    "             \"Product D\" : 6540} #created a dictionary\n",
    "\n",
    "items_series = pd.Series(data = Items_dict, name = \"Category\")\n",
    "items_series"
   ]
  },
  {
   "cell_type": "markdown",
   "metadata": {},
   "source": [
    "### Series attributes"
   ]
  },
  {
   "cell_type": "code",
   "execution_count": 86,
   "metadata": {},
   "outputs": [
    {
     "data": {
      "text/plain": [
       "count        4.000000\n",
       "mean     16742.250000\n",
       "std      12962.810919\n",
       "min       5679.000000\n",
       "25%       6324.750000\n",
       "50%      14420.000000\n",
       "75%      24837.500000\n",
       "max      32450.000000\n",
       "Name: Category, dtype: float64"
      ]
     },
     "execution_count": 86,
     "metadata": {},
     "output_type": "execute_result"
    }
   ],
   "source": [
    "items_series.describe()"
   ]
  },
  {
   "cell_type": "code",
   "execution_count": 87,
   "metadata": {},
   "outputs": [
    {
     "data": {
      "text/plain": [
       "168034466.9217456"
      ]
     },
     "execution_count": 87,
     "metadata": {},
     "output_type": "execute_result"
    }
   ],
   "source": [
    "import math as m\n",
    "variance = m.pow(12962.810919, 2)\n",
    "variance"
   ]
  },
  {
   "cell_type": "code",
   "execution_count": 88,
   "metadata": {},
   "outputs": [
    {
     "data": {
      "text/plain": [
       "4"
      ]
     },
     "execution_count": 88,
     "metadata": {},
     "output_type": "execute_result"
    }
   ],
   "source": [
    "items_series.count()"
   ]
  },
  {
   "cell_type": "code",
   "execution_count": 89,
   "metadata": {},
   "outputs": [
    {
     "data": {
      "text/plain": [
       "True"
      ]
     },
     "execution_count": 89,
     "metadata": {},
     "output_type": "execute_result"
    }
   ],
   "source": [
    "items_series.all()"
   ]
  },
  {
   "cell_type": "code",
   "execution_count": 90,
   "metadata": {},
   "outputs": [
    {
     "data": {
      "text/plain": [
       "2"
      ]
     },
     "execution_count": 90,
     "metadata": {},
     "output_type": "execute_result"
    }
   ],
   "source": [
    "items_series.argmin()"
   ]
  },
  {
   "cell_type": "code",
   "execution_count": 91,
   "metadata": {},
   "outputs": [
    {
     "data": {
      "text/plain": [
       "1"
      ]
     },
     "execution_count": 91,
     "metadata": {},
     "output_type": "execute_result"
    }
   ],
   "source": [
    "items_series.argmax()"
   ]
  },
  {
   "cell_type": "code",
   "execution_count": 92,
   "metadata": {},
   "outputs": [
    {
     "data": {
      "text/plain": [
       "5679"
      ]
     },
     "execution_count": 92,
     "metadata": {},
     "output_type": "execute_result"
    }
   ],
   "source": [
    "items_series.min()"
   ]
  },
  {
   "cell_type": "code",
   "execution_count": 93,
   "metadata": {},
   "outputs": [
    {
     "data": {
      "text/plain": [
       "32450"
      ]
     },
     "execution_count": 93,
     "metadata": {},
     "output_type": "execute_result"
    }
   ],
   "source": [
    "items_series.max()"
   ]
  },
  {
   "cell_type": "code",
   "execution_count": 94,
   "metadata": {},
   "outputs": [
    {
     "data": {
      "text/plain": [
       "dtype('int64')"
      ]
     },
     "execution_count": 94,
     "metadata": {},
     "output_type": "execute_result"
    }
   ],
   "source": [
    "items_series[0].dtype"
   ]
  },
  {
   "cell_type": "code",
   "execution_count": 95,
   "metadata": {},
   "outputs": [
    {
     "data": {
      "text/plain": [
       "pandas.core.series.Series"
      ]
     },
     "execution_count": 95,
     "metadata": {},
     "output_type": "execute_result"
    }
   ],
   "source": [
    "type(items_series)"
   ]
  },
  {
   "cell_type": "code",
   "execution_count": 96,
   "metadata": {},
   "outputs": [
    {
     "data": {
      "text/plain": [
       "Product A    22300\n",
       "Product B    54750\n",
       "Product C    60429\n",
       "Product D    66969\n",
       "Name: Category, dtype: int64"
      ]
     },
     "execution_count": 96,
     "metadata": {},
     "output_type": "execute_result"
    }
   ],
   "source": [
    "items_series.cumsum()"
   ]
  },
  {
   "cell_type": "code",
   "execution_count": 97,
   "metadata": {},
   "outputs": [],
   "source": [
    "items_series.dropna(inplace=True)"
   ]
  },
  {
   "cell_type": "code",
   "execution_count": 98,
   "metadata": {},
   "outputs": [
    {
     "data": {
      "text/plain": [
       "Product A    22300\n",
       "Product B    32450\n",
       "Product C     5679\n",
       "Product D     6540\n",
       "Name: Category, dtype: int64"
      ]
     },
     "execution_count": 98,
     "metadata": {},
     "output_type": "execute_result"
    }
   ],
   "source": [
    "items_series"
   ]
  },
  {
   "cell_type": "code",
   "execution_count": 99,
   "metadata": {},
   "outputs": [
    {
     "data": {
      "text/plain": [
       "0"
      ]
     },
     "execution_count": 99,
     "metadata": {},
     "output_type": "execute_result"
    }
   ],
   "source": [
    "#check for missing values\n",
    "items_series.isna().sum()"
   ]
  },
  {
   "cell_type": "code",
   "execution_count": 100,
   "metadata": {},
   "outputs": [
    {
     "data": {
      "text/plain": [
       "Product A    22300\n",
       "Product B    32450\n",
       "Product C     5679\n",
       "Product D     6540\n",
       "Product E     7890\n",
       "Name: Category, dtype: int64"
      ]
     },
     "execution_count": 100,
     "metadata": {},
     "output_type": "execute_result"
    }
   ],
   "source": [
    "items_series['Product E'] = 7890\n",
    "items_series"
   ]
  },
  {
   "cell_type": "code",
   "execution_count": 101,
   "metadata": {},
   "outputs": [
    {
     "data": {
      "text/plain": [
       "Product A    22300\n",
       "Product B    32450\n",
       "Product C     5679\n",
       "Product D     6540\n",
       "Product E     7890\n",
       "Product F     5687\n",
       "Name: Category, dtype: int64"
      ]
     },
     "execution_count": 101,
     "metadata": {},
     "output_type": "execute_result"
    }
   ],
   "source": [
    "items_series['Product F'] = 5687\n",
    "items_series"
   ]
  },
  {
   "cell_type": "code",
   "execution_count": 102,
   "metadata": {},
   "outputs": [
    {
     "data": {
      "text/plain": [
       "False"
      ]
     },
     "execution_count": 102,
     "metadata": {},
     "output_type": "execute_result"
    }
   ],
   "source": [
    "items_series.duplicated().any()"
   ]
  },
  {
   "cell_type": "code",
   "execution_count": 103,
   "metadata": {},
   "outputs": [
    {
     "data": {
      "text/plain": [
       "6"
      ]
     },
     "execution_count": 103,
     "metadata": {},
     "output_type": "execute_result"
    }
   ],
   "source": [
    "items_series.count()"
   ]
  },
  {
   "cell_type": "code",
   "execution_count": 104,
   "metadata": {},
   "outputs": [
    {
     "data": {
      "text/plain": [
       "Product A    22300\n",
       "Product B    32450\n",
       "Product C     5679\n",
       "Product D     6540\n",
       "Product E     7890\n",
       "Product F     5687\n",
       "Name: Category, dtype: int64"
      ]
     },
     "execution_count": 104,
     "metadata": {},
     "output_type": "execute_result"
    }
   ],
   "source": [
    "items_series.drop_duplicates()"
   ]
  },
  {
   "cell_type": "code",
   "execution_count": 105,
   "metadata": {},
   "outputs": [
    {
     "data": {
      "text/plain": [
       "Product A    22300\n",
       "Product B    32450\n",
       "Product C     5679\n",
       "Product D     6540\n",
       "Product E     7890\n",
       "Name: Category, dtype: int64"
      ]
     },
     "execution_count": 105,
     "metadata": {},
     "output_type": "execute_result"
    }
   ],
   "source": [
    "items_series.head()"
   ]
  },
  {
   "cell_type": "code",
   "execution_count": 106,
   "metadata": {},
   "outputs": [
    {
     "data": {
      "text/plain": [
       "Product B    32450\n",
       "Product C     5679\n",
       "Product D     6540\n",
       "Product E     7890\n",
       "Product F     5687\n",
       "Name: Category, dtype: int64"
      ]
     },
     "execution_count": 106,
     "metadata": {},
     "output_type": "execute_result"
    }
   ],
   "source": [
    "items_series.tail()"
   ]
  },
  {
   "cell_type": "code",
   "execution_count": 107,
   "metadata": {},
   "outputs": [
    {
     "data": {
      "text/plain": [
       "Product B    32450\n",
       "Product C     5679\n",
       "Product D     6540\n",
       "Product E     7890\n",
       "Product F     5687\n",
       "Name: Category, dtype: int64"
      ]
     },
     "execution_count": 107,
     "metadata": {},
     "output_type": "execute_result"
    }
   ],
   "source": [
    "items_series = items_series.drop_duplicates()\n",
    "items_series.tail()"
   ]
  },
  {
   "cell_type": "code",
   "execution_count": 108,
   "metadata": {},
   "outputs": [
    {
     "data": {
      "text/plain": [
       "<AxesSubplot:>"
      ]
     },
     "execution_count": 108,
     "metadata": {},
     "output_type": "execute_result"
    },
    {
     "data": {
      "image/png": "[encoded data removed]",
      "text/plain": [
       "<Figure size 432x288 with 1 Axes>"
      ]
     },
     "metadata": {
      "needs_background": "light"
     },
     "output_type": "display_data"
    }
   ],
   "source": [
    "items_series.hist()"
   ]
  },
  {
   "cell_type": "code",
   "execution_count": 109,
   "metadata": {},
   "outputs": [
    {
     "data": {
      "text/plain": [
       "22300"
      ]
     },
     "execution_count": 109,
     "metadata": {},
     "output_type": "execute_result"
    }
   ],
   "source": [
    "items_series.iloc[0]"
   ]
  },
  {
   "cell_type": "code",
   "execution_count": 110,
   "metadata": {},
   "outputs": [
    {
     "data": {
      "text/plain": [
       "22300"
      ]
     },
     "execution_count": 110,
     "metadata": {},
     "output_type": "execute_result"
    }
   ],
   "source": [
    "items_series.loc['Product A']"
   ]
  },
  {
   "cell_type": "code",
   "execution_count": 111,
   "metadata": {},
   "outputs": [
    {
     "name": "stdout",
     "output_type": "stream",
     "text": [
      "<class 'pandas.core.series.Series'>\n",
      "Index: 6 entries, Product A to Product F\n",
      "Series name: Category\n",
      "Non-Null Count  Dtype\n",
      "--------------  -----\n",
      "6 non-null      int64\n",
      "dtypes: int64(1)\n",
      "memory usage: 268.0+ bytes\n"
     ]
    }
   ],
   "source": [
    "items_series.info()"
   ]
  },
  {
   "cell_type": "code",
   "execution_count": 112,
   "metadata": {},
   "outputs": [
    {
     "data": {
      "text/plain": [
       "0"
      ]
     },
     "execution_count": 112,
     "metadata": {},
     "output_type": "execute_result"
    }
   ],
   "source": [
    "items_series.isnull().sum()"
   ]
  },
  {
   "cell_type": "code",
   "execution_count": 113,
   "metadata": {},
   "outputs": [
    {
     "data": {
      "text/plain": [
       "array([22300, 32450,  5679,  6540,  7890,  5687])"
      ]
     },
     "execution_count": 113,
     "metadata": {},
     "output_type": "execute_result"
    }
   ],
   "source": [
    "items_series.unique()"
   ]
  },
  {
   "cell_type": "code",
   "execution_count": 114,
   "metadata": {},
   "outputs": [
    {
     "data": {
      "text/plain": [
       "6"
      ]
     },
     "execution_count": 114,
     "metadata": {},
     "output_type": "execute_result"
    }
   ],
   "source": [
    "items_series.nunique()"
   ]
  },
  {
   "cell_type": "code",
   "execution_count": 115,
   "metadata": {},
   "outputs": [
    {
     "data": {
      "text/plain": [
       "Index(['Product A', 'Product B', 'Product C', 'Product D', 'Product E',\n",
       "       'Product F'],\n",
       "      dtype='object')"
      ]
     },
     "execution_count": 115,
     "metadata": {},
     "output_type": "execute_result"
    }
   ],
   "source": [
    "items_series.keys()"
   ]
  },
  {
   "cell_type": "code",
   "execution_count": 116,
   "metadata": {},
   "outputs": [
    {
     "data": {
      "text/plain": [
       "0.30519253436304367"
      ]
     },
     "execution_count": 116,
     "metadata": {},
     "output_type": "execute_result"
    }
   ],
   "source": [
    "items_series.autocorr()"
   ]
  },
  {
   "cell_type": "code",
   "execution_count": 117,
   "metadata": {},
   "outputs": [
    {
     "data": {
      "text/plain": [
       "1.0"
      ]
     },
     "execution_count": 117,
     "metadata": {},
     "output_type": "execute_result"
    }
   ],
   "source": [
    "items_series.corr(items_series)"
   ]
  },
  {
   "cell_type": "code",
   "execution_count": 118,
   "metadata": {},
   "outputs": [
    {
     "data": {
      "text/plain": [
       "127726571.46666668"
      ]
     },
     "execution_count": 118,
     "metadata": {},
     "output_type": "execute_result"
    }
   ],
   "source": [
    "items_series.cov(items_series)"
   ]
  },
  {
   "cell_type": "code",
   "execution_count": 119,
   "metadata": {},
   "outputs": [
    {
     "data": {
      "text/plain": [
       "1.2807055849361892"
      ]
     },
     "execution_count": 119,
     "metadata": {},
     "output_type": "execute_result"
    }
   ],
   "source": [
    "items_series.skew()"
   ]
  },
  {
   "cell_type": "code",
   "execution_count": 120,
   "metadata": {},
   "outputs": [
    {
     "data": {
      "text/plain": [
       "count        6.000000\n",
       "mean     13424.333333\n",
       "std      11301.618091\n",
       "min       5679.000000\n",
       "25%       5900.250000\n",
       "50%       7215.000000\n",
       "75%      18697.500000\n",
       "max      32450.000000\n",
       "Name: Category, dtype: float64"
      ]
     },
     "execution_count": 120,
     "metadata": {},
     "output_type": "execute_result"
    }
   ],
   "source": [
    "items_series.describe()"
   ]
  },
  {
   "cell_type": "markdown",
   "metadata": {},
   "source": [
    "Note: Positively skew also known as right skewed means that the mean is greater than the median."
   ]
  },
  {
   "cell_type": "code",
   "execution_count": 121,
   "metadata": {},
   "outputs": [
    {
     "data": {
      "image/png": "[encoded data removed]",
      "text/plain": [
       "<Figure size 432x288 with 1 Axes>"
      ]
     },
     "metadata": {
      "needs_background": "light"
     },
     "output_type": "display_data"
    }
   ],
   "source": [
    "import seaborn as sns\n",
    "import warnings\n",
    "warnings.filterwarnings('ignore')\n",
    "sns.distplot(items_series);"
   ]
  },
  {
   "cell_type": "code",
   "execution_count": 122,
   "metadata": {},
   "outputs": [
    {
     "data": {
      "text/plain": [
       "0.083164881216506"
      ]
     },
     "execution_count": 122,
     "metadata": {},
     "output_type": "execute_result"
    }
   ],
   "source": [
    "items_series.kurtosis()"
   ]
  },
  {
   "cell_type": "code",
   "execution_count": 123,
   "metadata": {},
   "outputs": [
    {
     "data": {
      "text/plain": [
       "7215.0"
      ]
     },
     "execution_count": 123,
     "metadata": {},
     "output_type": "execute_result"
    }
   ],
   "source": [
    "items_series.quantile(0.50)"
   ]
  },
  {
   "cell_type": "markdown",
   "metadata": {},
   "source": [
    "Read up on:\n",
    "- Normal distribution\n",
    "- Binomial distribution\n",
    "- Poisson distribution\n",
    "- Exponential distribution"
   ]
  },
  {
   "cell_type": "markdown",
   "metadata": {},
   "source": [
    "### Creating a Pandas DataFrame"
   ]
  },
  {
   "cell_type": "code",
   "execution_count": 124,
   "metadata": {},
   "outputs": [
    {
     "data": {
      "text/plain": [
       "{'Name': ['Jason', 'Michael', 'Gregory', 'Dorathy', 'Joshua', 'Isaac'],\n",
       " 'Scores': [76, 67, 34, 56, 55, 89],\n",
       " 'Grade': ['A', 'B', 'F', 'C', 'C', 'A'],\n",
       " 'Gender': ['Male', 'Male', 'Male', 'Female', 'Male', 'Male'],\n",
       " 'Department': ['CPT', 'BCH', 'MCB', 'BIO', 'LAW', 'CHE']}"
      ]
     },
     "execution_count": 124,
     "metadata": {},
     "output_type": "execute_result"
    }
   ],
   "source": [
    "#creating a pandas dataframe from a dictionary of list\n",
    "\n",
    "Student_info = {\"Name\" : [\"Jason\", \"Michael\", \"Gregory\", \"Dorathy\", \"Joshua\", \"Isaac\"],\n",
    "                \"Scores\": [76, 67, 34, 56, 55, 89],\n",
    "                \"Grade\" : ['A', 'B', 'F', 'C', 'C', 'A'],\n",
    "                \"Gender\" : ['Male', \"Male\", \"Male\", \"Female\", \"Male\", \"Male\"],\n",
    "                \"Department\" : ['CPT', 'BCH', 'MCB', 'BIO', 'LAW', 'CHE']}\n",
    "Student_info"
   ]
  },
  {
   "cell_type": "code",
   "execution_count": 125,
   "metadata": {},
   "outputs": [
    {
     "data": {
      "text/html": [
       "<div>\n",
       "<style scoped>\n",
       "    .dataframe tbody tr th:only-of-type {\n",
       "        vertical-align: middle;\n",
       "    }\n",
       "\n",
       "    .dataframe tbody tr th {\n",
       "        vertical-align: top;\n",
       "    }\n",
       "\n",
       "    .dataframe thead th {\n",
       "        text-align: right;\n",
       "    }\n",
       "</style>\n",
       "<table border=\"1\" class=\"dataframe\">\n",
       "  <thead>\n",
       "    <tr style=\"text-align: right;\">\n",
       "      <th></th>\n",
       "      <th>Name</th>\n",
       "      <th>Scores</th>\n",
       "      <th>Grade</th>\n",
       "      <th>Gender</th>\n",
       "      <th>Department</th>\n",
       "    </tr>\n",
       "  </thead>\n",
       "  <tbody>\n",
       "    <tr>\n",
       "      <th>0</th>\n",
       "      <td>Jason</td>\n",
       "      <td>76</td>\n",
       "      <td>A</td>\n",
       "      <td>Male</td>\n",
       "      <td>CPT</td>\n",
       "    </tr>\n",
       "    <tr>\n",
       "      <th>1</th>\n",
       "      <td>Michael</td>\n",
       "      <td>67</td>\n",
       "      <td>B</td>\n",
       "      <td>Male</td>\n",
       "      <td>BCH</td>\n",
       "    </tr>\n",
       "    <tr>\n",
       "      <th>2</th>\n",
       "      <td>Gregory</td>\n",
       "      <td>34</td>\n",
       "      <td>F</td>\n",
       "      <td>Male</td>\n",
       "      <td>MCB</td>\n",
       "    </tr>\n",
       "    <tr>\n",
       "      <th>3</th>\n",
       "      <td>Dorathy</td>\n",
       "      <td>56</td>\n",
       "      <td>C</td>\n",
       "      <td>Female</td>\n",
       "      <td>BIO</td>\n",
       "    </tr>\n",
       "    <tr>\n",
       "      <th>4</th>\n",
       "      <td>Joshua</td>\n",
       "      <td>55</td>\n",
       "      <td>C</td>\n",
       "      <td>Male</td>\n",
       "      <td>LAW</td>\n",
       "    </tr>\n",
       "    <tr>\n",
       "      <th>5</th>\n",
       "      <td>Isaac</td>\n",
       "      <td>89</td>\n",
       "      <td>A</td>\n",
       "      <td>Male</td>\n",
       "      <td>CHE</td>\n",
       "    </tr>\n",
       "  </tbody>\n",
       "</table>\n",
       "</div>"
      ],
      "text/plain": [
       "      Name  Scores Grade  Gender Department\n",
       "0    Jason      76     A    Male        CPT\n",
       "1  Michael      67     B    Male        BCH\n",
       "2  Gregory      34     F    Male        MCB\n",
       "3  Dorathy      56     C  Female        BIO\n",
       "4   Joshua      55     C    Male        LAW\n",
       "5    Isaac      89     A    Male        CHE"
      ]
     },
     "execution_count": 125,
     "metadata": {},
     "output_type": "execute_result"
    }
   ],
   "source": [
    "student_df = pd.DataFrame(data = Student_info)\n",
    "\n",
    "student_df"
   ]
  },
  {
   "cell_type": "code",
   "execution_count": 126,
   "metadata": {},
   "outputs": [
    {
     "data": {
      "text/plain": [
       "[{'Amount ($)': 2300,\n",
       "  'status': 'Ripe',\n",
       "  'availability': 'Yes',\n",
       "  'Quantity_demanded': 12,\n",
       "  'Quantity_supplied': 10},\n",
       " {'Amount ($)': 3400,\n",
       "  'status': 'Unripe',\n",
       "  'availability': 'No',\n",
       "  'Quantity_demanded': 23,\n",
       "  'Quantity_supplied': 21},\n",
       " {'Amount ($)': 4890,\n",
       "  'status': 'Unripe',\n",
       "  'availability': 'No',\n",
       "  'Quantity_demanded': 22,\n",
       "  'Quantity_supplied': 20},\n",
       " {'Amount ($)': 4000,\n",
       "  'status': 'Ripe',\n",
       "  'availability': 'Yes',\n",
       "  'Quantity_demanded': 19,\n",
       "  'Quantity_supplied': 17}]"
      ]
     },
     "execution_count": 126,
     "metadata": {},
     "output_type": "execute_result"
    }
   ],
   "source": [
    "#creating a dataframe using list of dictionary\n",
    "\n",
    "fruits_basket = [{\"Amount ($)\": 2300,\n",
    "                \"status\" : \"Ripe\",\n",
    "                \"availability\" : \"Yes\",\n",
    "                \"Quantity_demanded\" : 12,\n",
    "                \"Quantity_supplied\" : 10},\n",
    "                {\"Amount ($)\" : 3400,\n",
    "                \"status\" : \"Unripe\",\n",
    "                \"availability\" : \"No\",\n",
    "                \"Quantity_demanded\" : 23,\n",
    "                \"Quantity_supplied\" : 21},\n",
    "                 {\"Amount ($)\" : 4890,\n",
    "                 \"status\" : \"Unripe\",\n",
    "                \"availability\" : \"No\",\n",
    "                \"Quantity_demanded\" : 22,\n",
    "                \"Quantity_supplied\" : 20},\n",
    "                 {\"Amount ($)\" : 4000,\n",
    "                 \"status\" : \"Ripe\",\n",
    "                \"availability\" : \"Yes\",\n",
    "                \"Quantity_demanded\" : 19,\n",
    "                \"Quantity_supplied\" : 17}\n",
    "                ]\n",
    "fruits_basket"
   ]
  },
  {
   "cell_type": "code",
   "execution_count": 127,
   "metadata": {},
   "outputs": [
    {
     "data": {
      "text/html": [
       "<div>\n",
       "<style scoped>\n",
       "    .dataframe tbody tr th:only-of-type {\n",
       "        vertical-align: middle;\n",
       "    }\n",
       "\n",
       "    .dataframe tbody tr th {\n",
       "        vertical-align: top;\n",
       "    }\n",
       "\n",
       "    .dataframe thead th {\n",
       "        text-align: right;\n",
       "    }\n",
       "</style>\n",
       "<table border=\"1\" class=\"dataframe\">\n",
       "  <thead>\n",
       "    <tr style=\"text-align: right;\">\n",
       "      <th></th>\n",
       "      <th>Amount ($)</th>\n",
       "      <th>status</th>\n",
       "      <th>availability</th>\n",
       "      <th>Quantity_demanded</th>\n",
       "      <th>Quantity_supplied</th>\n",
       "    </tr>\n",
       "  </thead>\n",
       "  <tbody>\n",
       "    <tr>\n",
       "      <th>Pawpaw</th>\n",
       "      <td>2300</td>\n",
       "      <td>Ripe</td>\n",
       "      <td>Yes</td>\n",
       "      <td>12</td>\n",
       "      <td>10</td>\n",
       "    </tr>\n",
       "    <tr>\n",
       "      <th>Mango</th>\n",
       "      <td>3400</td>\n",
       "      <td>Unripe</td>\n",
       "      <td>No</td>\n",
       "      <td>23</td>\n",
       "      <td>21</td>\n",
       "    </tr>\n",
       "    <tr>\n",
       "      <th>Cashew</th>\n",
       "      <td>4890</td>\n",
       "      <td>Unripe</td>\n",
       "      <td>No</td>\n",
       "      <td>22</td>\n",
       "      <td>20</td>\n",
       "    </tr>\n",
       "    <tr>\n",
       "      <th>Banana</th>\n",
       "      <td>4000</td>\n",
       "      <td>Ripe</td>\n",
       "      <td>Yes</td>\n",
       "      <td>19</td>\n",
       "      <td>17</td>\n",
       "    </tr>\n",
       "  </tbody>\n",
       "</table>\n",
       "</div>"
      ],
      "text/plain": [
       "        Amount ($)  status availability  Quantity_demanded  Quantity_supplied\n",
       "Pawpaw        2300    Ripe          Yes                 12                 10\n",
       "Mango         3400  Unripe           No                 23                 21\n",
       "Cashew        4890  Unripe           No                 22                 20\n",
       "Banana        4000    Ripe          Yes                 19                 17"
      ]
     },
     "execution_count": 127,
     "metadata": {},
     "output_type": "execute_result"
    }
   ],
   "source": [
    "fruit_df = pd.DataFrame(fruits_basket, index = ['Pawpaw', 'Mango', 'Cashew', 'Banana'])\n",
    "fruit_df"
   ]
  },
  {
   "cell_type": "code",
   "execution_count": 128,
   "metadata": {},
   "outputs": [
    {
     "data": {
      "text/plain": [
       "[['Agatha', 23, 'Female', 'Marketer', 2300, 'Single'],\n",
       " ['Moses', 24, 'Male', 'Data Analyst', 4000, 'Single'],\n",
       " ['Mathew', 34, 'Male', 'Project manager', 5000, 'Married'],\n",
       " ['James', 22, 'Male', 'Sales Person', 2500, 'Single'],\n",
       " ['Jane', 32, 'Female', 'UX developer', 3000, 'Married']]"
      ]
     },
     "execution_count": 128,
     "metadata": {},
     "output_type": "execute_result"
    }
   ],
   "source": [
    "# Creating a pandas Dataframe from a list of lists\n",
    "Employee = [[\"Agatha\", 23, \"Female\", \"Marketer\", 2300, \"Single\"], \n",
    "           [\"Moses\",24, \"Male\", \"Data Analyst\", 4000, \"Single\"],\n",
    "           [\"Mathew\", 34, \"Male\", \"Project manager\", 5000, \"Married\"],\n",
    "           [\"James\", 22, \"Male\", \"Sales Person\", 2500, \"Single\"],\n",
    "           [\"Jane\", 32, 'Female', 'UX developer', 3000, \"Married\"]]\n",
    "Employee"
   ]
  },
  {
   "cell_type": "code",
   "execution_count": 129,
   "metadata": {},
   "outputs": [
    {
     "data": {
      "text/html": [
       "<div>\n",
       "<style scoped>\n",
       "    .dataframe tbody tr th:only-of-type {\n",
       "        vertical-align: middle;\n",
       "    }\n",
       "\n",
       "    .dataframe tbody tr th {\n",
       "        vertical-align: top;\n",
       "    }\n",
       "\n",
       "    .dataframe thead th {\n",
       "        text-align: right;\n",
       "    }\n",
       "</style>\n",
       "<table border=\"1\" class=\"dataframe\">\n",
       "  <thead>\n",
       "    <tr style=\"text-align: right;\">\n",
       "      <th></th>\n",
       "      <th>Names</th>\n",
       "      <th>Age</th>\n",
       "      <th>Gender</th>\n",
       "      <th>Position</th>\n",
       "      <th>Salary ($)</th>\n",
       "      <th>Marital_status</th>\n",
       "    </tr>\n",
       "  </thead>\n",
       "  <tbody>\n",
       "    <tr>\n",
       "      <th>0</th>\n",
       "      <td>Agatha</td>\n",
       "      <td>23</td>\n",
       "      <td>Female</td>\n",
       "      <td>Marketer</td>\n",
       "      <td>2300</td>\n",
       "      <td>Single</td>\n",
       "    </tr>\n",
       "    <tr>\n",
       "      <th>1</th>\n",
       "      <td>Moses</td>\n",
       "      <td>24</td>\n",
       "      <td>Male</td>\n",
       "      <td>Data Analyst</td>\n",
       "      <td>4000</td>\n",
       "      <td>Single</td>\n",
       "    </tr>\n",
       "    <tr>\n",
       "      <th>2</th>\n",
       "      <td>Mathew</td>\n",
       "      <td>34</td>\n",
       "      <td>Male</td>\n",
       "      <td>Project manager</td>\n",
       "      <td>5000</td>\n",
       "      <td>Married</td>\n",
       "    </tr>\n",
       "    <tr>\n",
       "      <th>3</th>\n",
       "      <td>James</td>\n",
       "      <td>22</td>\n",
       "      <td>Male</td>\n",
       "      <td>Sales Person</td>\n",
       "      <td>2500</td>\n",
       "      <td>Single</td>\n",
       "    </tr>\n",
       "    <tr>\n",
       "      <th>4</th>\n",
       "      <td>Jane</td>\n",
       "      <td>32</td>\n",
       "      <td>Female</td>\n",
       "      <td>UX developer</td>\n",
       "      <td>3000</td>\n",
       "      <td>Married</td>\n",
       "    </tr>\n",
       "  </tbody>\n",
       "</table>\n",
       "</div>"
      ],
      "text/plain": [
       "    Names  Age  Gender         Position  Salary ($) Marital_status\n",
       "0  Agatha   23  Female         Marketer        2300         Single\n",
       "1   Moses   24    Male     Data Analyst        4000         Single\n",
       "2  Mathew   34    Male  Project manager        5000        Married\n",
       "3   James   22    Male     Sales Person        2500         Single\n",
       "4    Jane   32  Female     UX developer        3000        Married"
      ]
     },
     "execution_count": 129,
     "metadata": {},
     "output_type": "execute_result"
    }
   ],
   "source": [
    "employee_dict = pd.DataFrame(Employee, columns = ['Names', 'Age', 'Gender', 'Position', \"Salary ($)\", 'Marital_status'])\n",
    "\n",
    "employee_dict"
   ]
  },
  {
   "cell_type": "markdown",
   "metadata": {},
   "source": [
    "### Operations on Pandas Dataframe"
   ]
  },
  {
   "cell_type": "code",
   "execution_count": 130,
   "metadata": {},
   "outputs": [
    {
     "data": {
      "text/html": [
       "<div>\n",
       "<style scoped>\n",
       "    .dataframe tbody tr th:only-of-type {\n",
       "        vertical-align: middle;\n",
       "    }\n",
       "\n",
       "    .dataframe tbody tr th {\n",
       "        vertical-align: top;\n",
       "    }\n",
       "\n",
       "    .dataframe thead th {\n",
       "        text-align: right;\n",
       "    }\n",
       "</style>\n",
       "<table border=\"1\" class=\"dataframe\">\n",
       "  <thead>\n",
       "    <tr style=\"text-align: right;\">\n",
       "      <th></th>\n",
       "      <th>Amount ($)</th>\n",
       "      <th>status</th>\n",
       "      <th>availability</th>\n",
       "      <th>Quantity_demanded</th>\n",
       "      <th>Quantity_supplied</th>\n",
       "    </tr>\n",
       "  </thead>\n",
       "  <tbody>\n",
       "    <tr>\n",
       "      <th>Pawpaw</th>\n",
       "      <td>2300</td>\n",
       "      <td>Ripe</td>\n",
       "      <td>Yes</td>\n",
       "      <td>12</td>\n",
       "      <td>10</td>\n",
       "    </tr>\n",
       "    <tr>\n",
       "      <th>Mango</th>\n",
       "      <td>3400</td>\n",
       "      <td>Unripe</td>\n",
       "      <td>No</td>\n",
       "      <td>23</td>\n",
       "      <td>21</td>\n",
       "    </tr>\n",
       "    <tr>\n",
       "      <th>Cashew</th>\n",
       "      <td>4890</td>\n",
       "      <td>Unripe</td>\n",
       "      <td>No</td>\n",
       "      <td>22</td>\n",
       "      <td>20</td>\n",
       "    </tr>\n",
       "    <tr>\n",
       "      <th>Banana</th>\n",
       "      <td>4000</td>\n",
       "      <td>Ripe</td>\n",
       "      <td>Yes</td>\n",
       "      <td>19</td>\n",
       "      <td>17</td>\n",
       "    </tr>\n",
       "  </tbody>\n",
       "</table>\n",
       "</div>"
      ],
      "text/plain": [
       "        Amount ($)  status availability  Quantity_demanded  Quantity_supplied\n",
       "Pawpaw        2300    Ripe          Yes                 12                 10\n",
       "Mango         3400  Unripe           No                 23                 21\n",
       "Cashew        4890  Unripe           No                 22                 20\n",
       "Banana        4000    Ripe          Yes                 19                 17"
      ]
     },
     "execution_count": 130,
     "metadata": {},
     "output_type": "execute_result"
    }
   ],
   "source": [
    "fruit_df.head()"
   ]
  },
  {
   "cell_type": "code",
   "execution_count": 131,
   "metadata": {},
   "outputs": [
    {
     "data": {
      "text/html": [
       "<div>\n",
       "<style scoped>\n",
       "    .dataframe tbody tr th:only-of-type {\n",
       "        vertical-align: middle;\n",
       "    }\n",
       "\n",
       "    .dataframe tbody tr th {\n",
       "        vertical-align: top;\n",
       "    }\n",
       "\n",
       "    .dataframe thead th {\n",
       "        text-align: right;\n",
       "    }\n",
       "</style>\n",
       "<table border=\"1\" class=\"dataframe\">\n",
       "  <thead>\n",
       "    <tr style=\"text-align: right;\">\n",
       "      <th></th>\n",
       "      <th>Name</th>\n",
       "      <th>Scores</th>\n",
       "      <th>Grade</th>\n",
       "      <th>Gender</th>\n",
       "      <th>Department</th>\n",
       "    </tr>\n",
       "  </thead>\n",
       "  <tbody>\n",
       "    <tr>\n",
       "      <th>4</th>\n",
       "      <td>Joshua</td>\n",
       "      <td>55</td>\n",
       "      <td>C</td>\n",
       "      <td>Male</td>\n",
       "      <td>LAW</td>\n",
       "    </tr>\n",
       "    <tr>\n",
       "      <th>5</th>\n",
       "      <td>Isaac</td>\n",
       "      <td>89</td>\n",
       "      <td>A</td>\n",
       "      <td>Male</td>\n",
       "      <td>CHE</td>\n",
       "    </tr>\n",
       "  </tbody>\n",
       "</table>\n",
       "</div>"
      ],
      "text/plain": [
       "     Name  Scores Grade Gender Department\n",
       "4  Joshua      55     C   Male        LAW\n",
       "5   Isaac      89     A   Male        CHE"
      ]
     },
     "execution_count": 131,
     "metadata": {},
     "output_type": "execute_result"
    }
   ],
   "source": [
    "student_df.tail(2)"
   ]
  },
  {
   "cell_type": "code",
   "execution_count": 132,
   "metadata": {},
   "outputs": [
    {
     "data": {
      "text/html": [
       "<div>\n",
       "<style scoped>\n",
       "    .dataframe tbody tr th:only-of-type {\n",
       "        vertical-align: middle;\n",
       "    }\n",
       "\n",
       "    .dataframe tbody tr th {\n",
       "        vertical-align: top;\n",
       "    }\n",
       "\n",
       "    .dataframe thead th {\n",
       "        text-align: right;\n",
       "    }\n",
       "</style>\n",
       "<table border=\"1\" class=\"dataframe\">\n",
       "  <thead>\n",
       "    <tr style=\"text-align: right;\">\n",
       "      <th></th>\n",
       "      <th>Amount ($)</th>\n",
       "      <th>status</th>\n",
       "      <th>availability</th>\n",
       "      <th>Quantity_demanded</th>\n",
       "      <th>Quantity_supplied</th>\n",
       "    </tr>\n",
       "  </thead>\n",
       "  <tbody>\n",
       "    <tr>\n",
       "      <th>Pawpaw</th>\n",
       "      <td>2300</td>\n",
       "      <td>Ripe</td>\n",
       "      <td>Yes</td>\n",
       "      <td>12</td>\n",
       "      <td>10</td>\n",
       "    </tr>\n",
       "    <tr>\n",
       "      <th>Mango</th>\n",
       "      <td>3400</td>\n",
       "      <td>Unripe</td>\n",
       "      <td>No</td>\n",
       "      <td>23</td>\n",
       "      <td>21</td>\n",
       "    </tr>\n",
       "    <tr>\n",
       "      <th>Cashew</th>\n",
       "      <td>4890</td>\n",
       "      <td>Unripe</td>\n",
       "      <td>No</td>\n",
       "      <td>22</td>\n",
       "      <td>20</td>\n",
       "    </tr>\n",
       "    <tr>\n",
       "      <th>Banana</th>\n",
       "      <td>4000</td>\n",
       "      <td>Ripe</td>\n",
       "      <td>Yes</td>\n",
       "      <td>19</td>\n",
       "      <td>17</td>\n",
       "    </tr>\n",
       "  </tbody>\n",
       "</table>\n",
       "</div>"
      ],
      "text/plain": [
       "        Amount ($)  status availability  Quantity_demanded  Quantity_supplied\n",
       "Pawpaw        2300    Ripe          Yes                 12                 10\n",
       "Mango         3400  Unripe           No                 23                 21\n",
       "Cashew        4890  Unripe           No                 22                 20\n",
       "Banana        4000    Ripe          Yes                 19                 17"
      ]
     },
     "execution_count": 132,
     "metadata": {},
     "output_type": "execute_result"
    }
   ],
   "source": [
    "#output the first five rows of a dataframe\n",
    "fruit_df.head()"
   ]
  },
  {
   "cell_type": "code",
   "execution_count": 133,
   "metadata": {},
   "outputs": [
    {
     "data": {
      "text/html": [
       "<div>\n",
       "<style scoped>\n",
       "    .dataframe tbody tr th:only-of-type {\n",
       "        vertical-align: middle;\n",
       "    }\n",
       "\n",
       "    .dataframe tbody tr th {\n",
       "        vertical-align: top;\n",
       "    }\n",
       "\n",
       "    .dataframe thead th {\n",
       "        text-align: right;\n",
       "    }\n",
       "</style>\n",
       "<table border=\"1\" class=\"dataframe\">\n",
       "  <thead>\n",
       "    <tr style=\"text-align: right;\">\n",
       "      <th></th>\n",
       "      <th>Amount ($)</th>\n",
       "      <th>status</th>\n",
       "      <th>availability</th>\n",
       "      <th>Quantity_demanded</th>\n",
       "      <th>Quantity_supplied</th>\n",
       "    </tr>\n",
       "  </thead>\n",
       "  <tbody>\n",
       "    <tr>\n",
       "      <th>Pawpaw</th>\n",
       "      <td>2300</td>\n",
       "      <td>Ripe</td>\n",
       "      <td>Yes</td>\n",
       "      <td>12</td>\n",
       "      <td>10</td>\n",
       "    </tr>\n",
       "    <tr>\n",
       "      <th>Mango</th>\n",
       "      <td>3400</td>\n",
       "      <td>Unripe</td>\n",
       "      <td>No</td>\n",
       "      <td>23</td>\n",
       "      <td>21</td>\n",
       "    </tr>\n",
       "    <tr>\n",
       "      <th>Cashew</th>\n",
       "      <td>4890</td>\n",
       "      <td>Unripe</td>\n",
       "      <td>No</td>\n",
       "      <td>22</td>\n",
       "      <td>20</td>\n",
       "    </tr>\n",
       "    <tr>\n",
       "      <th>Banana</th>\n",
       "      <td>4000</td>\n",
       "      <td>Ripe</td>\n",
       "      <td>Yes</td>\n",
       "      <td>19</td>\n",
       "      <td>17</td>\n",
       "    </tr>\n",
       "  </tbody>\n",
       "</table>\n",
       "</div>"
      ],
      "text/plain": [
       "        Amount ($)  status availability  Quantity_demanded  Quantity_supplied\n",
       "Pawpaw        2300    Ripe          Yes                 12                 10\n",
       "Mango         3400  Unripe           No                 23                 21\n",
       "Cashew        4890  Unripe           No                 22                 20\n",
       "Banana        4000    Ripe          Yes                 19                 17"
      ]
     },
     "execution_count": 133,
     "metadata": {},
     "output_type": "execute_result"
    }
   ],
   "source": [
    "#output the last five rows of a dataframe\n",
    "fruit_df.tail()"
   ]
  },
  {
   "cell_type": "code",
   "execution_count": 134,
   "metadata": {},
   "outputs": [
    {
     "data": {
      "text/plain": [
       "(4, 5)"
      ]
     },
     "execution_count": 134,
     "metadata": {},
     "output_type": "execute_result"
    }
   ],
   "source": [
    "#check the shape of a dataframe\n",
    "fruit_df.shape"
   ]
  },
  {
   "cell_type": "code",
   "execution_count": 135,
   "metadata": {},
   "outputs": [
    {
     "data": {
      "text/plain": [
       "Index(['Pawpaw', 'Mango', 'Cashew', 'Banana'], dtype='object')"
      ]
     },
     "execution_count": 135,
     "metadata": {},
     "output_type": "execute_result"
    }
   ],
   "source": [
    "#check the index\n",
    "fruit_df.index"
   ]
  },
  {
   "cell_type": "code",
   "execution_count": 136,
   "metadata": {},
   "outputs": [
    {
     "name": "stdout",
     "output_type": "stream",
     "text": [
      "<class 'pandas.core.frame.DataFrame'>\n",
      "Index: 4 entries, Pawpaw to Banana\n",
      "Data columns (total 5 columns):\n",
      " #   Column             Non-Null Count  Dtype \n",
      "---  ------             --------------  ----- \n",
      " 0   Amount ($)         4 non-null      int64 \n",
      " 1   status             4 non-null      object\n",
      " 2   availability       4 non-null      object\n",
      " 3   Quantity_demanded  4 non-null      int64 \n",
      " 4   Quantity_supplied  4 non-null      int64 \n",
      "dtypes: int64(3), object(2)\n",
      "memory usage: 192.0+ bytes\n"
     ]
    }
   ],
   "source": [
    "#check the dataframe information\n",
    "fruit_df.info()"
   ]
  },
  {
   "cell_type": "code",
   "execution_count": 137,
   "metadata": {},
   "outputs": [
    {
     "data": {
      "text/html": [
       "<div>\n",
       "<style scoped>\n",
       "    .dataframe tbody tr th:only-of-type {\n",
       "        vertical-align: middle;\n",
       "    }\n",
       "\n",
       "    .dataframe tbody tr th {\n",
       "        vertical-align: top;\n",
       "    }\n",
       "\n",
       "    .dataframe thead th {\n",
       "        text-align: right;\n",
       "    }\n",
       "</style>\n",
       "<table border=\"1\" class=\"dataframe\">\n",
       "  <thead>\n",
       "    <tr style=\"text-align: right;\">\n",
       "      <th></th>\n",
       "      <th>Amount ($)</th>\n",
       "      <th>Quantity_demanded</th>\n",
       "      <th>Quantity_supplied</th>\n",
       "    </tr>\n",
       "  </thead>\n",
       "  <tbody>\n",
       "    <tr>\n",
       "      <th>count</th>\n",
       "      <td>4.000000</td>\n",
       "      <td>4.000000</td>\n",
       "      <td>4.000000</td>\n",
       "    </tr>\n",
       "    <tr>\n",
       "      <th>mean</th>\n",
       "      <td>3647.500000</td>\n",
       "      <td>19.000000</td>\n",
       "      <td>17.000000</td>\n",
       "    </tr>\n",
       "    <tr>\n",
       "      <th>std</th>\n",
       "      <td>1087.056423</td>\n",
       "      <td>4.966555</td>\n",
       "      <td>4.966555</td>\n",
       "    </tr>\n",
       "    <tr>\n",
       "      <th>min</th>\n",
       "      <td>2300.000000</td>\n",
       "      <td>12.000000</td>\n",
       "      <td>10.000000</td>\n",
       "    </tr>\n",
       "    <tr>\n",
       "      <th>25%</th>\n",
       "      <td>3125.000000</td>\n",
       "      <td>17.250000</td>\n",
       "      <td>15.250000</td>\n",
       "    </tr>\n",
       "    <tr>\n",
       "      <th>50%</th>\n",
       "      <td>3700.000000</td>\n",
       "      <td>20.500000</td>\n",
       "      <td>18.500000</td>\n",
       "    </tr>\n",
       "    <tr>\n",
       "      <th>75%</th>\n",
       "      <td>4222.500000</td>\n",
       "      <td>22.250000</td>\n",
       "      <td>20.250000</td>\n",
       "    </tr>\n",
       "    <tr>\n",
       "      <th>max</th>\n",
       "      <td>4890.000000</td>\n",
       "      <td>23.000000</td>\n",
       "      <td>21.000000</td>\n",
       "    </tr>\n",
       "  </tbody>\n",
       "</table>\n",
       "</div>"
      ],
      "text/plain": [
       "        Amount ($)  Quantity_demanded  Quantity_supplied\n",
       "count     4.000000           4.000000           4.000000\n",
       "mean   3647.500000          19.000000          17.000000\n",
       "std    1087.056423           4.966555           4.966555\n",
       "min    2300.000000          12.000000          10.000000\n",
       "25%    3125.000000          17.250000          15.250000\n",
       "50%    3700.000000          20.500000          18.500000\n",
       "75%    4222.500000          22.250000          20.250000\n",
       "max    4890.000000          23.000000          21.000000"
      ]
     },
     "execution_count": 137,
     "metadata": {},
     "output_type": "execute_result"
    }
   ],
   "source": [
    "#check for descriptive statistics of the dataframe\n",
    "fruit_df.describe()"
   ]
  },
  {
   "cell_type": "code",
   "execution_count": 138,
   "metadata": {},
   "outputs": [
    {
     "data": {
      "text/plain": [
       "Amount ($)           0\n",
       "status               0\n",
       "availability         0\n",
       "Quantity_demanded    0\n",
       "Quantity_supplied    0\n",
       "dtype: int64"
      ]
     },
     "execution_count": 138,
     "metadata": {},
     "output_type": "execute_result"
    }
   ],
   "source": [
    "#check for missing values\n",
    "fruit_df.isnull().sum()"
   ]
  },
  {
   "cell_type": "code",
   "execution_count": 139,
   "metadata": {},
   "outputs": [
    {
     "data": {
      "text/plain": [
       "Amount ($)           0\n",
       "status               0\n",
       "availability         0\n",
       "Quantity_demanded    0\n",
       "Quantity_supplied    0\n",
       "dtype: int64"
      ]
     },
     "execution_count": 139,
     "metadata": {},
     "output_type": "execute_result"
    }
   ],
   "source": [
    "fruit_df.isna().sum()"
   ]
  },
  {
   "cell_type": "code",
   "execution_count": 140,
   "metadata": {},
   "outputs": [
    {
     "data": {
      "text/html": [
       "<div>\n",
       "<style scoped>\n",
       "    .dataframe tbody tr th:only-of-type {\n",
       "        vertical-align: middle;\n",
       "    }\n",
       "\n",
       "    .dataframe tbody tr th {\n",
       "        vertical-align: top;\n",
       "    }\n",
       "\n",
       "    .dataframe thead th {\n",
       "        text-align: right;\n",
       "    }\n",
       "</style>\n",
       "<table border=\"1\" class=\"dataframe\">\n",
       "  <thead>\n",
       "    <tr style=\"text-align: right;\">\n",
       "      <th></th>\n",
       "      <th>Amount ($)</th>\n",
       "      <th>Quantity_demanded</th>\n",
       "      <th>Quantity_supplied</th>\n",
       "    </tr>\n",
       "  </thead>\n",
       "  <tbody>\n",
       "    <tr>\n",
       "      <th>Amount ($)</th>\n",
       "      <td>1.000000</td>\n",
       "      <td>0.751384</td>\n",
       "      <td>0.751384</td>\n",
       "    </tr>\n",
       "    <tr>\n",
       "      <th>Quantity_demanded</th>\n",
       "      <td>0.751384</td>\n",
       "      <td>1.000000</td>\n",
       "      <td>1.000000</td>\n",
       "    </tr>\n",
       "    <tr>\n",
       "      <th>Quantity_supplied</th>\n",
       "      <td>0.751384</td>\n",
       "      <td>1.000000</td>\n",
       "      <td>1.000000</td>\n",
       "    </tr>\n",
       "  </tbody>\n",
       "</table>\n",
       "</div>"
      ],
      "text/plain": [
       "                   Amount ($)  Quantity_demanded  Quantity_supplied\n",
       "Amount ($)           1.000000           0.751384           0.751384\n",
       "Quantity_demanded    0.751384           1.000000           1.000000\n",
       "Quantity_supplied    0.751384           1.000000           1.000000"
      ]
     },
     "execution_count": 140,
     "metadata": {},
     "output_type": "execute_result"
    }
   ],
   "source": [
    "#check the relationship between two features\n",
    "corr = fruit_df.corr()\n",
    "\n",
    "corr"
   ]
  },
  {
   "cell_type": "code",
   "execution_count": 141,
   "metadata": {},
   "outputs": [
    {
     "data": {
      "text/html": [
       "<div>\n",
       "<style scoped>\n",
       "    .dataframe tbody tr th:only-of-type {\n",
       "        vertical-align: middle;\n",
       "    }\n",
       "\n",
       "    .dataframe tbody tr th {\n",
       "        vertical-align: top;\n",
       "    }\n",
       "\n",
       "    .dataframe thead th {\n",
       "        text-align: right;\n",
       "    }\n",
       "</style>\n",
       "<table border=\"1\" class=\"dataframe\">\n",
       "  <thead>\n",
       "    <tr style=\"text-align: right;\">\n",
       "      <th></th>\n",
       "      <th>Amount ($)</th>\n",
       "      <th>status</th>\n",
       "      <th>availability</th>\n",
       "      <th>Quantity_demanded</th>\n",
       "      <th>Quantity_supplied</th>\n",
       "    </tr>\n",
       "  </thead>\n",
       "  <tbody>\n",
       "    <tr>\n",
       "      <th>Pawpaw</th>\n",
       "      <td>2300</td>\n",
       "      <td>Ripe</td>\n",
       "      <td>Yes</td>\n",
       "      <td>12</td>\n",
       "      <td>10</td>\n",
       "    </tr>\n",
       "    <tr>\n",
       "      <th>Mango</th>\n",
       "      <td>3400</td>\n",
       "      <td>Unripe</td>\n",
       "      <td>No</td>\n",
       "      <td>23</td>\n",
       "      <td>21</td>\n",
       "    </tr>\n",
       "    <tr>\n",
       "      <th>Cashew</th>\n",
       "      <td>4890</td>\n",
       "      <td>Unripe</td>\n",
       "      <td>No</td>\n",
       "      <td>22</td>\n",
       "      <td>20</td>\n",
       "    </tr>\n",
       "    <tr>\n",
       "      <th>Banana</th>\n",
       "      <td>4000</td>\n",
       "      <td>Ripe</td>\n",
       "      <td>Yes</td>\n",
       "      <td>19</td>\n",
       "      <td>17</td>\n",
       "    </tr>\n",
       "  </tbody>\n",
       "</table>\n",
       "</div>"
      ],
      "text/plain": [
       "        Amount ($)  status availability  Quantity_demanded  Quantity_supplied\n",
       "Pawpaw        2300    Ripe          Yes                 12                 10\n",
       "Mango         3400  Unripe           No                 23                 21\n",
       "Cashew        4890  Unripe           No                 22                 20\n",
       "Banana        4000    Ripe          Yes                 19                 17"
      ]
     },
     "execution_count": 141,
     "metadata": {},
     "output_type": "execute_result"
    }
   ],
   "source": [
    "fruit_df.head()"
   ]
  },
  {
   "cell_type": "code",
   "execution_count": 142,
   "metadata": {},
   "outputs": [
    {
     "data": {
      "text/plain": [
       "array(['Amount ($)', 'status', 'availability', 'Quantity_demanded',\n",
       "       'Quantity_supplied'], dtype=object)"
      ]
     },
     "execution_count": 142,
     "metadata": {},
     "output_type": "execute_result"
    }
   ],
   "source": [
    "fruit_df.columns.values"
   ]
  },
  {
   "cell_type": "code",
   "execution_count": 143,
   "metadata": {},
   "outputs": [
    {
     "data": {
      "text/html": [
       "<div>\n",
       "<style scoped>\n",
       "    .dataframe tbody tr th:only-of-type {\n",
       "        vertical-align: middle;\n",
       "    }\n",
       "\n",
       "    .dataframe tbody tr th {\n",
       "        vertical-align: top;\n",
       "    }\n",
       "\n",
       "    .dataframe thead th {\n",
       "        text-align: right;\n",
       "    }\n",
       "</style>\n",
       "<table border=\"1\" class=\"dataframe\">\n",
       "  <thead>\n",
       "    <tr style=\"text-align: right;\">\n",
       "      <th></th>\n",
       "      <th>Amount ($)</th>\n",
       "      <th>Quantity_supplied</th>\n",
       "    </tr>\n",
       "  </thead>\n",
       "  <tbody>\n",
       "    <tr>\n",
       "      <th>Pawpaw</th>\n",
       "      <td>2300</td>\n",
       "      <td>10</td>\n",
       "    </tr>\n",
       "    <tr>\n",
       "      <th>Mango</th>\n",
       "      <td>3400</td>\n",
       "      <td>21</td>\n",
       "    </tr>\n",
       "    <tr>\n",
       "      <th>Cashew</th>\n",
       "      <td>4890</td>\n",
       "      <td>20</td>\n",
       "    </tr>\n",
       "    <tr>\n",
       "      <th>Banana</th>\n",
       "      <td>4000</td>\n",
       "      <td>17</td>\n",
       "    </tr>\n",
       "  </tbody>\n",
       "</table>\n",
       "</div>"
      ],
      "text/plain": [
       "        Amount ($)  Quantity_supplied\n",
       "Pawpaw        2300                 10\n",
       "Mango         3400                 21\n",
       "Cashew        4890                 20\n",
       "Banana        4000                 17"
      ]
     },
     "execution_count": 143,
     "metadata": {},
     "output_type": "execute_result"
    }
   ],
   "source": [
    "#taking a particular segment for analysis\n",
    "Amount = ['Amount ($)', 'Quantity_supplied']\n",
    "\n",
    "amount_df = fruit_df[Amount]\n",
    "amount_df"
   ]
  },
  {
   "cell_type": "code",
   "execution_count": 144,
   "metadata": {},
   "outputs": [
    {
     "data": {
      "text/plain": [
       "<AxesSubplot:>"
      ]
     },
     "execution_count": 144,
     "metadata": {},
     "output_type": "execute_result"
    },
    {
     "data": {
      "image/png": "[encoded data removed]",
      "text/plain": [
       "<Figure size 432x288 with 1 Axes>"
      ]
     },
     "metadata": {
      "needs_background": "light"
     },
     "output_type": "display_data"
    }
   ],
   "source": [
    "fruit_df.boxplot()"
   ]
  },
  {
   "cell_type": "code",
   "execution_count": 145,
   "metadata": {},
   "outputs": [
    {
     "data": {
      "text/plain": [
       "False"
      ]
     },
     "execution_count": 145,
     "metadata": {},
     "output_type": "execute_result"
    }
   ],
   "source": [
    "#check for duplicates values\n",
    "fruit_df.duplicated().any()"
   ]
  },
  {
   "cell_type": "code",
   "execution_count": 146,
   "metadata": {},
   "outputs": [
    {
     "data": {
      "text/plain": [
       "array([[<AxesSubplot:title={'center':'Amount ($)'}>,\n",
       "        <AxesSubplot:title={'center':'Quantity_demanded'}>],\n",
       "       [<AxesSubplot:title={'center':'Quantity_supplied'}>,\n",
       "        <AxesSubplot:>]], dtype=object)"
      ]
     },
     "execution_count": 146,
     "metadata": {},
     "output_type": "execute_result"
    },
    {
     "data": {
      "image/png": "[encoded data removed]",
      "text/plain": [
       "<Figure size 432x288 with 4 Axes>"
      ]
     },
     "metadata": {
      "needs_background": "light"
     },
     "output_type": "display_data"
    }
   ],
   "source": [
    "fruit_df.hist()"
   ]
  },
  {
   "cell_type": "code",
   "execution_count": 147,
   "metadata": {},
   "outputs": [],
   "source": [
    "#How to save a dataframe to csv file\n",
    "\n",
    "fruit_df.to_csv(\"data/fruit.csv\", index = False)"
   ]
  },
  {
   "cell_type": "code",
   "execution_count": 148,
   "metadata": {},
   "outputs": [
    {
     "data": {
      "text/html": [
       "<div>\n",
       "<style scoped>\n",
       "    .dataframe tbody tr th:only-of-type {\n",
       "        vertical-align: middle;\n",
       "    }\n",
       "\n",
       "    .dataframe tbody tr th {\n",
       "        vertical-align: top;\n",
       "    }\n",
       "\n",
       "    .dataframe thead th {\n",
       "        text-align: right;\n",
       "    }\n",
       "</style>\n",
       "<table border=\"1\" class=\"dataframe\">\n",
       "  <thead>\n",
       "    <tr style=\"text-align: right;\">\n",
       "      <th></th>\n",
       "      <th>Amount ($)</th>\n",
       "      <th>status</th>\n",
       "      <th>availability</th>\n",
       "      <th>Quantity_demanded</th>\n",
       "      <th>Quantity_supplied</th>\n",
       "    </tr>\n",
       "  </thead>\n",
       "  <tbody>\n",
       "    <tr>\n",
       "      <th>0</th>\n",
       "      <td>2300</td>\n",
       "      <td>Ripe</td>\n",
       "      <td>Yes</td>\n",
       "      <td>12</td>\n",
       "      <td>10</td>\n",
       "    </tr>\n",
       "    <tr>\n",
       "      <th>1</th>\n",
       "      <td>3400</td>\n",
       "      <td>Unripe</td>\n",
       "      <td>No</td>\n",
       "      <td>23</td>\n",
       "      <td>21</td>\n",
       "    </tr>\n",
       "    <tr>\n",
       "      <th>2</th>\n",
       "      <td>4890</td>\n",
       "      <td>Unripe</td>\n",
       "      <td>No</td>\n",
       "      <td>22</td>\n",
       "      <td>20</td>\n",
       "    </tr>\n",
       "    <tr>\n",
       "      <th>3</th>\n",
       "      <td>4000</td>\n",
       "      <td>Ripe</td>\n",
       "      <td>Yes</td>\n",
       "      <td>19</td>\n",
       "      <td>17</td>\n",
       "    </tr>\n",
       "  </tbody>\n",
       "</table>\n",
       "</div>"
      ],
      "text/plain": [
       "   Amount ($)  status availability  Quantity_demanded  Quantity_supplied\n",
       "0        2300    Ripe          Yes                 12                 10\n",
       "1        3400  Unripe           No                 23                 21\n",
       "2        4890  Unripe           No                 22                 20\n",
       "3        4000    Ripe          Yes                 19                 17"
      ]
     },
     "execution_count": 148,
     "metadata": {},
     "output_type": "execute_result"
    }
   ],
   "source": [
    "#load the pandas data\n",
    "\n",
    "data = pd.read_csv(\"data/fruit.csv\")\n",
    "\n",
    "#view the data\n",
    "data.head()"
   ]
  },
  {
   "cell_type": "markdown",
   "metadata": {},
   "source": [
    "### Assignment\n",
    "\n",
    "- Use other dataframe `Student_df` and `Employee_df` created in this course and perform the basic pandas operations."
   ]
  },
  {
   "cell_type": "code",
   "execution_count": null,
   "metadata": {},
   "outputs": [],
   "source": []
  }
 ],
 "metadata": {
  "kernelspec": {
   "display_name": "Python 3.9.12 ('base')",
   "language": "python",
   "name": "python3"
  },
  "language_info": {
   "codemirror_mode": {
    "name": "ipython",
    "version": 3
   },
   "file_extension": ".py",
   "mimetype": "text/x-python",
   "name": "python",
   "nbconvert_exporter": "python",
   "pygments_lexer": "ipython3",
   "version": "3.9.12"
  },
  "orig_nbformat": 4,
  "vscode": {
   "interpreter": {
    "hash": "40d3a090f54c6569ab1632332b64b2c03c39dcf918b08424e98f38b5ae0af88f"
   }
  }
 },
 "nbformat": 4,
 "nbformat_minor": 2
}
