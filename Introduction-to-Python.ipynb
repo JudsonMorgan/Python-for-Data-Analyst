{
 "cells": [
  {
   "cell_type": "markdown",
   "id": "84c02f83",
   "metadata": {},
   "source": [
    "### Variables"
   ]
  },
  {
   "cell_type": "code",
   "execution_count": 1,
   "id": "9f606023",
   "metadata": {},
   "outputs": [
    {
     "name": "stdout",
     "output_type": "stream",
     "text": [
      "A project to ...\n"
     ]
    }
   ],
   "source": [
    "print(\"A project to ...\")"
   ]
  },
  {
   "cell_type": "code",
   "execution_count": 2,
   "id": "cc4365d2",
   "metadata": {},
   "outputs": [
    {
     "name": "stdout",
     "output_type": "stream",
     "text": [
      "Hello world\n"
     ]
    }
   ],
   "source": [
    "x = 'Hello world'\n",
    "print(x)"
   ]
  },
  {
   "cell_type": "code",
   "execution_count": 3,
   "id": "4c1942b7",
   "metadata": {},
   "outputs": [
    {
     "name": "stdout",
     "output_type": "stream",
     "text": [
      "3\n"
     ]
    }
   ],
   "source": [
    "x = 3\n",
    "print(x)"
   ]
  },
  {
   "cell_type": "code",
   "execution_count": 4,
   "id": "44c36941",
   "metadata": {},
   "outputs": [
    {
     "name": "stdout",
     "output_type": "stream",
     "text": [
      "5\n"
     ]
    }
   ],
   "source": [
    "# sum 2 and 3\n",
    "x = 2\n",
    "y = 3\n",
    "Sum = x + y\n",
    "print(Sum)"
   ]
  },
  {
   "cell_type": "markdown",
   "id": "390e4cd4",
   "metadata": {},
   "source": [
    "### Identifiers"
   ]
  },
  {
   "cell_type": "code",
   "execution_count": 5,
   "id": "7ba00a57",
   "metadata": {},
   "outputs": [
    {
     "name": "stdout",
     "output_type": "stream",
     "text": [
      "Obi Nwando\n"
     ]
    }
   ],
   "source": [
    "# string concatenation\n",
    "First_name = \"Obi\"\n",
    "Last_name = 'Nwando'\n",
    "Full_name = First_name+ \" \" +Last_name\n",
    "print(Full_name)"
   ]
  },
  {
   "cell_type": "code",
   "execution_count": 6,
   "id": "dd6c3499",
   "metadata": {},
   "outputs": [
    {
     "name": "stdout",
     "output_type": "stream",
     "text": [
      "The Sum is: 2\n"
     ]
    }
   ],
   "source": [
    "#Add two integers using the python input() function\n",
    "a = int(input(\"Please enter the first number: \")) #declaring a variable a to hold the first number\n",
    "b = int(input(\"Please enter the second number: \")) #declaring a variable b to hold the second number\n",
    "Sum = a + b\n",
    "# print(Sum)\n",
    "print(\"The Sum is: \"+str(Sum))"
   ]
  },
  {
   "cell_type": "markdown",
   "id": "c19e3d95",
   "metadata": {},
   "source": [
    "### Control Structures\n",
    "\n",
    "- If statements\n",
    "- if else statements\n",
    "- elif statement"
   ]
  },
  {
   "cell_type": "markdown",
   "id": "2cc0fb97",
   "metadata": {},
   "source": [
    "if (condition):\n",
    "\n",
    "    statements;"
   ]
  },
  {
   "cell_type": "code",
   "execution_count": 7,
   "id": "30adfe25",
   "metadata": {},
   "outputs": [],
   "source": [
    "# a simple for election\n",
    "age = int(input('Please enter your age: '))\n",
    "\n",
    "if (age >= 18):\n",
    "    print(\"you are eligible to vote.\")"
   ]
  },
  {
   "cell_type": "markdown",
   "id": "5e902010",
   "metadata": {},
   "source": [
    "If-else statements"
   ]
  },
  {
   "cell_type": "markdown",
   "id": "627256ca",
   "metadata": {},
   "source": [
    "if (condition):\n",
    "\n",
    "    statements;\n",
    "else:\n",
    "     \n",
    "    statements;"
   ]
  },
  {
   "cell_type": "code",
   "execution_count": 8,
   "id": "2a589c69",
   "metadata": {},
   "outputs": [
    {
     "name": "stdout",
     "output_type": "stream",
     "text": [
      "You are not eligible to vote.\n"
     ]
    }
   ],
   "source": [
    "# a simple for election\n",
    "age = int(input('Please enter your age: '))\n",
    "\n",
    "if (age >= 18):\n",
    "    print(\"You are eligible to vote.\")\n",
    "else:\n",
    "    print(\"You are not eligible to vote.\")"
   ]
  },
  {
   "cell_type": "markdown",
   "id": "500695d6",
   "metadata": {},
   "source": [
    "if (condition):\n",
    "    \n",
    "    statements;\n",
    "   \n",
    "elif (condition):\n",
    "    \n",
    "    statements;\n",
    "else:\n",
    "\n",
    "    statements;"
   ]
  },
  {
   "cell_type": "code",
   "execution_count": 9,
   "id": "8775b036",
   "metadata": {},
   "outputs": [
    {
     "name": "stdout",
     "output_type": "stream",
     "text": [
      "The grade is F\n"
     ]
    }
   ],
   "source": [
    "# student's grade checker\n",
    "\n",
    "student_score = int(input(\"Please enter the student score: \"))\n",
    "\n",
    "if (student_score >=70):\n",
    "    print(\"The grade is A\")\n",
    "elif(student_score <=69 and student_score >= 60):\n",
    "    print(\"The grade is B\")\n",
    "elif(student_score <=59 and student_score > 50):\n",
    "    print('The grade is C')\n",
    "elif(student_score <= 49 and student_score > 44):\n",
    "    print(\"The grade is D\")\n",
    "elif(student_score <=44 and student_score >= 40):\n",
    "    print(\"The grade is E\")\n",
    "else:\n",
    "    print(\"The grade is F\")"
   ]
  },
  {
   "cell_type": "markdown",
   "id": "1d8fa835",
   "metadata": {},
   "source": [
    "### Assignment\n",
    "\n",
    "1. Take input of age of 3 people by user and determine oldest and youngest among them.\n",
    "\n",
    "2. A student will not be allowed to sit in exam if his/her attendence is less than 75%.Take following input from user\n",
    "- Number of classes held\n",
    "- Number of classes attended.\n",
    "- ...And print percentage of class attended\n",
    "- Is student is allowed to sit in exam or not."
   ]
  },
  {
   "cell_type": "markdown",
   "id": "eaf37d45",
   "metadata": {},
   "source": [
    "### Solution 1"
   ]
  },
  {
   "cell_type": "code",
   "execution_count": 10,
   "id": "00767fb9",
   "metadata": {},
   "outputs": [
    {
     "name": "stdout",
     "output_type": "stream",
     "text": [
      "The ages are equal!\n"
     ]
    }
   ],
   "source": [
    "first_person_age = int(input(\"Enter the age of the first person: \"))\n",
    "second_person_age = int(input(\"Enter the age of the second person: \"))\n",
    "third_person_age = int(input(\"Enter the age of the third person: \"))\n",
    "\n",
    "if (first_person_age > second_person_age and first_person_age > third_person_age):\n",
    "    print(\"The first person age is {} years old, the second person age is {} years old, and the third person age is {} years old. Hence, the first person is the oldest.\".format(first_person_age, second_person_age, third_person_age))\n",
    "elif (second_person_age > first_person_age and second_person_age > third_person_age):\n",
    "    print(\"The second person is the oldest.\")\n",
    "elif (third_person_age > first_person_age and third_person_age > second_person_age):\n",
    "    print(\"The third person is the oldest.\")\n",
    "else:\n",
    "    print(\"The ages are equal!\")"
   ]
  },
  {
   "cell_type": "markdown",
   "id": "924e9cdd",
   "metadata": {},
   "source": [
    "### Solution 2"
   ]
  },
  {
   "cell_type": "code",
   "execution_count": 11,
   "id": "17bc80be",
   "metadata": {},
   "outputs": [
    {
     "name": "stdout",
     "output_type": "stream",
     "text": [
      "80.0\n"
     ]
    }
   ],
   "source": [
    "p = (8/10) * 100\n",
    "print(p)"
   ]
  },
  {
   "cell_type": "code",
   "execution_count": 12,
   "id": "48b0f966",
   "metadata": {},
   "outputs": [
    {
     "name": "stdout",
     "output_type": "stream",
     "text": [
      "The percentage of classes attended by this student is 83.33333333333334%\n",
      "Congratulations! You are eligible to write the exam.\n"
     ]
    }
   ],
   "source": [
    "num_of_classes_held = int(input(\"Enter the number of classes held: \"))\n",
    "num_of_classes_attended = int(input(\"Enter the number of classes attended: \"))\n",
    "\n",
    "percentage_of_attendance = (num_of_classes_attended/num_of_classes_held) * 100\n",
    "print(\"The percentage of classes attended by this student is {}%\".format(percentage_of_attendance))\n",
    "\n",
    "if (percentage_of_attendance >= 75.0):\n",
    "    print(\"Congratulations! You are eligible to write the exam.\")\n",
    "else:\n",
    "    print(\"Sorry! You are not eligible to write the exam. Please attend more classes next time.\")"
   ]
  },
  {
   "cell_type": "markdown",
   "id": "67274997",
   "metadata": {},
   "source": [
    "### Nested if statement"
   ]
  },
  {
   "cell_type": "code",
   "execution_count": 13,
   "id": "f9f4257c",
   "metadata": {},
   "outputs": [
    {
     "name": "stdout",
     "output_type": "stream",
     "text": [
      "Bye!\n"
     ]
    }
   ],
   "source": [
    "num = int(input(\"Enter the number: \"))\n",
    "\n",
    "if (num % 5 == 0):\n",
    "    print(\"Hello\")\n",
    "else:\n",
    "    print('Bye!')"
   ]
  },
  {
   "cell_type": "markdown",
   "id": "8dd71a65",
   "metadata": {},
   "source": [
    "### Strings"
   ]
  },
  {
   "cell_type": "code",
   "execution_count": 14,
   "id": "ef6eee14",
   "metadata": {},
   "outputs": [
    {
     "name": "stdout",
     "output_type": "stream",
     "text": [
      "Welcome to data analytics class.\n",
      "welcome to data analytics class.\n",
      "WELCOME TO DATA ANALYTICS CLASS.\n"
     ]
    }
   ],
   "source": [
    "S = \"welcome to data analytics class.\"\n",
    "#string formatting\n",
    "s_upper = S.upper()\n",
    "s_lower = S.lower()\n",
    "s_special = S.capitalize()\n",
    "print(s_special)\n",
    "print(s_lower)\n",
    "print(s_upper)"
   ]
  },
  {
   "cell_type": "code",
   "execution_count": 15,
   "id": "159e8894",
   "metadata": {},
   "outputs": [
    {
     "name": "stdout",
     "output_type": "stream",
     "text": [
      "Hello world\n"
     ]
    },
    {
     "data": {
      "text/plain": [
       "11"
      ]
     },
     "execution_count": 15,
     "metadata": {},
     "output_type": "execute_result"
    }
   ],
   "source": [
    "## string indexing\n",
    "R = 'Hello world'\n",
    "print(R)\n",
    "len(R)"
   ]
  },
  {
   "cell_type": "code",
   "execution_count": 16,
   "id": "064bc6d6",
   "metadata": {},
   "outputs": [
    {
     "data": {
      "text/plain": [
       "' '"
      ]
     },
     "execution_count": 16,
     "metadata": {},
     "output_type": "execute_result"
    }
   ],
   "source": [
    "R[5]"
   ]
  },
  {
   "cell_type": "code",
   "execution_count": 17,
   "id": "8914293b",
   "metadata": {},
   "outputs": [
    {
     "data": {
      "text/plain": [
       "'Hel'"
      ]
     },
     "execution_count": 17,
     "metadata": {},
     "output_type": "execute_result"
    }
   ],
   "source": [
    "## String slicing\n",
    "R[:3]"
   ]
  },
  {
   "cell_type": "code",
   "execution_count": 18,
   "id": "2915a287",
   "metadata": {},
   "outputs": [
    {
     "data": {
      "text/plain": [
       "'Hello world'"
      ]
     },
     "execution_count": 18,
     "metadata": {},
     "output_type": "execute_result"
    }
   ],
   "source": [
    "R[:]"
   ]
  },
  {
   "cell_type": "code",
   "execution_count": 19,
   "id": "6e0a4ab8",
   "metadata": {},
   "outputs": [
    {
     "data": {
      "text/plain": [
       "'dlrow olleH'"
      ]
     },
     "execution_count": 19,
     "metadata": {},
     "output_type": "execute_result"
    }
   ],
   "source": [
    "R[::-1]"
   ]
  },
  {
   "cell_type": "code",
   "execution_count": 20,
   "id": "982e57e8",
   "metadata": {},
   "outputs": [
    {
     "data": {
      "text/plain": [
       "'ada'"
      ]
     },
     "execution_count": 20,
     "metadata": {},
     "output_type": "execute_result"
    }
   ],
   "source": [
    "r = \"ada\"\n",
    "r[::-1]"
   ]
  },
  {
   "cell_type": "code",
   "execution_count": 21,
   "id": "8b509d98",
   "metadata": {},
   "outputs": [
    {
     "name": "stdout",
     "output_type": "stream",
     "text": [
      "The sum is 5\n"
     ]
    }
   ],
   "source": [
    "a = 2\n",
    "b = 3\n",
    "add = a + b\n",
    "print(f\"The sum is {add}\")"
   ]
  },
  {
   "cell_type": "code",
   "execution_count": 22,
   "id": "2a435bbc",
   "metadata": {},
   "outputs": [
    {
     "name": "stdout",
     "output_type": "stream",
     "text": [
      "The sum is 5\n"
     ]
    }
   ],
   "source": [
    "print(\"The sum is {}\".format(add))"
   ]
  },
  {
   "cell_type": "markdown",
   "id": "5c2fbadc",
   "metadata": {},
   "source": [
    "() [] {}"
   ]
  },
  {
   "cell_type": "markdown",
   "id": "975839b8",
   "metadata": {},
   "source": [
    "### Looping\n",
    "\n",
    "- for loop\n",
    "- while loop"
   ]
  },
  {
   "cell_type": "code",
   "execution_count": 23,
   "id": "6c949656",
   "metadata": {},
   "outputs": [
    {
     "data": {
      "text/plain": [
       "range(1, 10)"
      ]
     },
     "execution_count": 23,
     "metadata": {},
     "output_type": "execute_result"
    }
   ],
   "source": [
    "# print numbers from 0 to 10\n",
    "\n",
    "#range(start, stop, step)\n",
    "\n",
    "range(1, 10)\n"
   ]
  },
  {
   "cell_type": "code",
   "execution_count": 24,
   "id": "146848ac",
   "metadata": {},
   "outputs": [
    {
     "data": {
      "text/plain": [
       "range(0, 10)"
      ]
     },
     "execution_count": 24,
     "metadata": {},
     "output_type": "execute_result"
    }
   ],
   "source": [
    "range(10)"
   ]
  },
  {
   "cell_type": "code",
   "execution_count": 25,
   "id": "bef9a312",
   "metadata": {},
   "outputs": [
    {
     "name": "stdout",
     "output_type": "stream",
     "text": [
      "0\n",
      "1\n",
      "2\n",
      "3\n",
      "4\n",
      "5\n",
      "6\n",
      "7\n",
      "8\n",
      "9\n"
     ]
    }
   ],
   "source": [
    "for m in range(0, 10):\n",
    "    print(m)"
   ]
  },
  {
   "cell_type": "code",
   "execution_count": 26,
   "id": "83eb1a85",
   "metadata": {},
   "outputs": [
    {
     "name": "stdout",
     "output_type": "stream",
     "text": [
      "2 4 6 8 10 12 14 16 18 20 "
     ]
    }
   ],
   "source": [
    "#write a program that will output even numbers from 2 to 20 (20 inclusive)\n",
    "\n",
    "for i in range(2, 21, 2):\n",
    "    print(i, end = ' ')"
   ]
  },
  {
   "cell_type": "code",
   "execution_count": 27,
   "id": "eb582590",
   "metadata": {},
   "outputs": [
    {
     "name": "stdout",
     "output_type": "stream",
     "text": [
      "1 3 5 7 9 11 13 15 17 19 21 23 25 27 29 "
     ]
    }
   ],
   "source": [
    "#write a program that will output odd numbers from 1 to 30\n",
    "for i in range(1, 30, 2):\n",
    "    print(i, end = ' ')"
   ]
  },
  {
   "cell_type": "code",
   "execution_count": 28,
   "id": "f2eb7f7b",
   "metadata": {},
   "outputs": [
    {
     "name": "stdout",
     "output_type": "stream",
     "text": [
      "9 12 15 18 21 24 27 30 33 36 39 42 45 48 51 54 57 60 63 66 69 72 75 78 81 84 87 "
     ]
    }
   ],
   "source": [
    "#write a program that will output multiple of 3\n",
    "for i in range(3, 30):\n",
    "    i*=3\n",
    "    print(i, end = ' ')"
   ]
  },
  {
   "cell_type": "code",
   "execution_count": 29,
   "id": "24dc903c",
   "metadata": {},
   "outputs": [
    {
     "name": "stdout",
     "output_type": "stream",
     "text": [
      "2 4 6 8 10 12 14 16 18 20 "
     ]
    }
   ],
   "source": [
    "i = 2\n",
    "while i <= 20:\n",
    "    print(i, end = \" \")\n",
    "    i+=2"
   ]
  },
  {
   "cell_type": "code",
   "execution_count": 30,
   "id": "e95ad72d",
   "metadata": {},
   "outputs": [
    {
     "name": "stdout",
     "output_type": "stream",
     "text": [
      "0\n",
      "1\n",
      "2\n",
      "3\n",
      "4\n"
     ]
    }
   ],
   "source": [
    "s = \"Hello\"\n",
    "for i in range(len(s)):\n",
    "    print(i)"
   ]
  },
  {
   "cell_type": "code",
   "execution_count": 31,
   "id": "9847b61d",
   "metadata": {},
   "outputs": [
    {
     "name": "stdout",
     "output_type": "stream",
     "text": [
      "0 1 2 3 4 5 6 7 8 9 "
     ]
    }
   ],
   "source": [
    "name = \"Obi Nwando\"\n",
    "for i in range(len(name)):\n",
    "    print(i, end = ' ')"
   ]
  },
  {
   "cell_type": "code",
   "execution_count": 32,
   "id": "e77a1453",
   "metadata": {},
   "outputs": [
    {
     "name": "stdout",
     "output_type": "stream",
     "text": [
      "even\n",
      "odd\n",
      "even\n",
      "odd\n",
      "even\n",
      "odd\n",
      "even\n",
      "odd\n"
     ]
    }
   ],
   "source": [
    "for i in range(2, 10):\n",
    "    if i%2 == 0:\n",
    "        print(\"even\")\n",
    "    else:\n",
    "        print(\"odd\")"
   ]
  },
  {
   "cell_type": "markdown",
   "id": "5407a0c2",
   "metadata": {},
   "source": [
    "### Functions"
   ]
  },
  {
   "cell_type": "code",
   "execution_count": 33,
   "id": "63f9cc87",
   "metadata": {},
   "outputs": [],
   "source": [
    "# function with parameter\n",
    "def checkNumber():\n",
    "    num = int(input(\"Enter the number to check: \"))\n",
    "    if num%2 == 0:\n",
    "        print('The number is even.')\n",
    "    else:\n",
    "        print(\"The number is odd.\")"
   ]
  },
  {
   "cell_type": "code",
   "execution_count": 34,
   "id": "cd19cc5b",
   "metadata": {},
   "outputs": [
    {
     "name": "stdout",
     "output_type": "stream",
     "text": [
      "The number is even.\n"
     ]
    }
   ],
   "source": [
    "#function\n",
    "checkNumber()"
   ]
  },
  {
   "cell_type": "code",
   "execution_count": 35,
   "id": "282e6b58",
   "metadata": {},
   "outputs": [],
   "source": [
    "def multiply_of_five(x):\n",
    "    i = x\n",
    "    i*=5\n",
    "    return i"
   ]
  },
  {
   "cell_type": "code",
   "execution_count": 36,
   "id": "09564bd3",
   "metadata": {},
   "outputs": [
    {
     "data": {
      "text/plain": [
       "20"
      ]
     },
     "execution_count": 36,
     "metadata": {},
     "output_type": "execute_result"
    }
   ],
   "source": [
    "multiply_of_five(4)"
   ]
  },
  {
   "cell_type": "code",
   "execution_count": 37,
   "id": "154a5b07",
   "metadata": {},
   "outputs": [
    {
     "name": "stdout",
     "output_type": "stream",
     "text": [
      "Yes\n"
     ]
    }
   ],
   "source": [
    "# a program to check whether a string is palindrome or not\n",
    "\n",
    "def isPalindrome(s):\n",
    "    return s == s[::-1]\n",
    "\n",
    "s = input(\"Enter the text you want to check: \")\n",
    "\n",
    "ans = isPalindrome(s)\n",
    "if ans:\n",
    "    print(\"Yes\")\n",
    "else:\n",
    "    print(\"No\")"
   ]
  },
  {
   "cell_type": "markdown",
   "id": "e9e5d9b4",
   "metadata": {},
   "source": [
    "$m = 3x + y$"
   ]
  },
  {
   "cell_type": "code",
   "execution_count": 38,
   "id": "ba92f1de",
   "metadata": {},
   "outputs": [
    {
     "data": {
      "text/plain": [
       "9"
      ]
     },
     "execution_count": 38,
     "metadata": {},
     "output_type": "execute_result"
    }
   ],
   "source": [
    "def slope(x, y):\n",
    "    m = 3 * x + y\n",
    "    return m\n",
    "\n",
    "slope(2, 3)"
   ]
  },
  {
   "cell_type": "markdown",
   "id": "d2cf0fc2",
   "metadata": {},
   "source": [
    "### Lambda function"
   ]
  },
  {
   "cell_type": "markdown",
   "id": "6c9c5007",
   "metadata": {},
   "source": [
    "$slope = 3 * x + y$"
   ]
  },
  {
   "cell_type": "code",
   "execution_count": 39,
   "id": "70697f97",
   "metadata": {},
   "outputs": [
    {
     "data": {
      "text/plain": [
       "<function __main__.<lambda>(x, y)>"
      ]
     },
     "execution_count": 39,
     "metadata": {},
     "output_type": "execute_result"
    }
   ],
   "source": [
    "lambda x,y : 3*x + y"
   ]
  },
  {
   "cell_type": "code",
   "execution_count": 40,
   "id": "0b26a704",
   "metadata": {},
   "outputs": [
    {
     "data": {
      "text/plain": [
       "9"
      ]
     },
     "execution_count": 40,
     "metadata": {},
     "output_type": "execute_result"
    }
   ],
   "source": [
    "slope = lambda x,y : 3*x + y\n",
    "slope(2,3)"
   ]
  },
  {
   "cell_type": "markdown",
   "id": "130c505f",
   "metadata": {},
   "source": [
    "Multiple of five using lambda function."
   ]
  },
  {
   "cell_type": "code",
   "execution_count": 41,
   "id": "97c7221c",
   "metadata": {},
   "outputs": [],
   "source": [
    "multiple_of_five = lambda x: x*5"
   ]
  },
  {
   "cell_type": "code",
   "execution_count": 42,
   "id": "f7fa3d75",
   "metadata": {},
   "outputs": [
    {
     "data": {
      "text/plain": [
       "25"
      ]
     },
     "execution_count": 42,
     "metadata": {},
     "output_type": "execute_result"
    }
   ],
   "source": [
    "multiple_of_five(5)"
   ]
  },
  {
   "cell_type": "markdown",
   "id": "97198aa7",
   "metadata": {},
   "source": [
    "$X = 3a + 2b - 4c$"
   ]
  },
  {
   "cell_type": "code",
   "execution_count": 43,
   "id": "87a0edbe",
   "metadata": {},
   "outputs": [
    {
     "data": {
      "text/plain": [
       "-4"
      ]
     },
     "execution_count": 43,
     "metadata": {},
     "output_type": "execute_result"
    }
   ],
   "source": [
    "def X(a, b, c):\n",
    "    i = 3*a + 2*b - 4*c\n",
    "    return i\n",
    "\n",
    "X(2, 3, 4)"
   ]
  },
  {
   "cell_type": "code",
   "execution_count": 44,
   "id": "dfbda28f",
   "metadata": {},
   "outputs": [],
   "source": [
    "X = lambda a,b,c: 3*a + 2*b - 4*c"
   ]
  },
  {
   "cell_type": "code",
   "execution_count": 45,
   "id": "487e9b9a",
   "metadata": {},
   "outputs": [
    {
     "data": {
      "text/plain": [
       "-4"
      ]
     },
     "execution_count": 45,
     "metadata": {},
     "output_type": "execute_result"
    }
   ],
   "source": [
    "X(2, 3, 4)"
   ]
  },
  {
   "cell_type": "code",
   "execution_count": 46,
   "id": "3078a573",
   "metadata": {},
   "outputs": [],
   "source": [
    "import math"
   ]
  },
  {
   "cell_type": "code",
   "execution_count": 47,
   "id": "54f1582d",
   "metadata": {},
   "outputs": [],
   "source": [
    "from math import sqrt"
   ]
  },
  {
   "cell_type": "code",
   "execution_count": 48,
   "id": "768b4351",
   "metadata": {},
   "outputs": [
    {
     "data": {
      "text/plain": [
       "2"
      ]
     },
     "execution_count": 48,
     "metadata": {},
     "output_type": "execute_result"
    }
   ],
   "source": [
    "int(math.sqrt(4))"
   ]
  },
  {
   "cell_type": "code",
   "execution_count": null,
   "id": "459748a2",
   "metadata": {},
   "outputs": [],
   "source": []
  }
 ],
 "metadata": {
  "kernelspec": {
   "display_name": "Python 3.9.12 ('base')",
   "language": "python",
   "name": "python3"
  },
  "language_info": {
   "codemirror_mode": {
    "name": "ipython",
    "version": 3
   },
   "file_extension": ".py",
   "mimetype": "text/x-python",
   "name": "python",
   "nbconvert_exporter": "python",
   "pygments_lexer": "ipython3",
   "version": "3.9.12"
  },
  "vscode": {
   "interpreter": {
    "hash": "40d3a090f54c6569ab1632332b64b2c03c39dcf918b08424e98f38b5ae0af88f"
   }
  }
 },
 "nbformat": 4,
 "nbformat_minor": 5
}
