{
 "cells": [
  {
   "cell_type": "markdown",
   "id": "010c06c2",
   "metadata": {},
   "source": [
    "- List\n",
    "- Tuples\n",
    "- Sets\n",
    "- Dictionaries"
   ]
  },
  {
   "cell_type": "markdown",
   "id": "e3dcd539",
   "metadata": {},
   "source": [
    "### List"
   ]
  },
  {
   "cell_type": "code",
   "execution_count": 1,
   "id": "ca454182",
   "metadata": {},
   "outputs": [
    {
     "data": {
      "text/plain": [
       "[]"
      ]
     },
     "execution_count": 1,
     "metadata": {},
     "output_type": "execute_result"
    }
   ],
   "source": [
    "list()"
   ]
  },
  {
   "cell_type": "code",
   "execution_count": 2,
   "id": "e5e19d11",
   "metadata": {},
   "outputs": [],
   "source": [
    "# create a list\n",
    "li = []"
   ]
  },
  {
   "cell_type": "code",
   "execution_count": 3,
   "id": "154f08ce",
   "metadata": {},
   "outputs": [
    {
     "data": {
      "text/plain": [
       "list"
      ]
     },
     "execution_count": 3,
     "metadata": {},
     "output_type": "execute_result"
    }
   ],
   "source": [
    "type(li)"
   ]
  },
  {
   "cell_type": "code",
   "execution_count": 4,
   "id": "3f871362",
   "metadata": {},
   "outputs": [
    {
     "data": {
      "text/plain": [
       "['Ada', 1, 'Michael', 3.142]"
      ]
     },
     "execution_count": 4,
     "metadata": {},
     "output_type": "execute_result"
    }
   ],
   "source": [
    "li = ['Ada', 1, \"Michael\", 3.142]\n",
    "li"
   ]
  },
  {
   "cell_type": "code",
   "execution_count": 5,
   "id": "eb4a2dab",
   "metadata": {},
   "outputs": [
    {
     "name": "stdout",
     "output_type": "stream",
     "text": [
      "['Ada', 1, 'Michael', 3.142]\n"
     ]
    }
   ],
   "source": [
    "print(li)"
   ]
  },
  {
   "cell_type": "code",
   "execution_count": 6,
   "id": "8faf7048",
   "metadata": {},
   "outputs": [],
   "source": [
    "names = list()"
   ]
  },
  {
   "cell_type": "code",
   "execution_count": 7,
   "id": "eb9a171b",
   "metadata": {},
   "outputs": [
    {
     "data": {
      "text/plain": [
       "list"
      ]
     },
     "execution_count": 7,
     "metadata": {},
     "output_type": "execute_result"
    }
   ],
   "source": [
    "type(names)"
   ]
  },
  {
   "cell_type": "markdown",
   "id": "4b1b76b3",
   "metadata": {},
   "source": [
    "### Python List Methods"
   ]
  },
  {
   "cell_type": "code",
   "execution_count": 8,
   "id": "e83087c8",
   "metadata": {},
   "outputs": [
    {
     "name": "stdout",
     "output_type": "stream",
     "text": [
      "['John', 'James', 'Michael', 'Glory', 'Joshua']\n"
     ]
    }
   ],
   "source": [
    "names.append(\"John\")\n",
    "names.append(\"James\")\n",
    "names.append(\"Michael\")\n",
    "names.append(\"Glory\")\n",
    "names.append(\"Joshua\")\n",
    "print(names)"
   ]
  },
  {
   "cell_type": "code",
   "execution_count": 9,
   "id": "44d77fc9",
   "metadata": {},
   "outputs": [
    {
     "name": "stdout",
     "output_type": "stream",
     "text": [
      "['John', 'Antony', 'James', 'Michael', 'Glory', 'Joshua']\n"
     ]
    }
   ],
   "source": [
    "names.insert(1, \"Antony\")\n",
    "print(names)"
   ]
  },
  {
   "cell_type": "code",
   "execution_count": 10,
   "id": "66a06e5c",
   "metadata": {},
   "outputs": [
    {
     "data": {
      "text/plain": [
       "6"
      ]
     },
     "execution_count": 10,
     "metadata": {},
     "output_type": "execute_result"
    }
   ],
   "source": [
    "len(names)"
   ]
  },
  {
   "cell_type": "code",
   "execution_count": 11,
   "id": "90b21ed0",
   "metadata": {},
   "outputs": [
    {
     "data": {
      "text/plain": [
       "'l'"
      ]
     },
     "execution_count": 11,
     "metadata": {},
     "output_type": "execute_result"
    }
   ],
   "source": [
    "s = \"hello world\"\n",
    "s[2]"
   ]
  },
  {
   "cell_type": "code",
   "execution_count": 12,
   "id": "ada09d69",
   "metadata": {},
   "outputs": [
    {
     "name": "stdout",
     "output_type": "stream",
     "text": [
      "The third person in the list is JAMES\n"
     ]
    }
   ],
   "source": [
    "print(\"The third person in the list is {}\".format(names[2].upper()))"
   ]
  },
  {
   "cell_type": "code",
   "execution_count": 13,
   "id": "ed42a1a4",
   "metadata": {},
   "outputs": [
    {
     "name": "stdout",
     "output_type": "stream",
     "text": [
      "['John', 'Antony', 'James', 'Michael', 'Glory', 'Joshua', 'Nwando']\n"
     ]
    }
   ],
   "source": [
    "names.append(\"Nwando\")\n",
    "print(names)"
   ]
  },
  {
   "cell_type": "code",
   "execution_count": 14,
   "id": "2310a7a1",
   "metadata": {},
   "outputs": [
    {
     "data": {
      "text/plain": [
       "'Nwando'"
      ]
     },
     "execution_count": 14,
     "metadata": {},
     "output_type": "execute_result"
    }
   ],
   "source": [
    "names.pop()"
   ]
  },
  {
   "cell_type": "code",
   "execution_count": 15,
   "id": "aa6f052c",
   "metadata": {},
   "outputs": [
    {
     "name": "stdout",
     "output_type": "stream",
     "text": [
      "['John', 'Antony', 'James', 'Michael', 'Glory', 'Joshua']\n"
     ]
    }
   ],
   "source": [
    "print(names)"
   ]
  },
  {
   "cell_type": "code",
   "execution_count": 16,
   "id": "6a24af1f",
   "metadata": {},
   "outputs": [
    {
     "data": {
      "text/plain": [
       "'hello world'"
      ]
     },
     "execution_count": 16,
     "metadata": {},
     "output_type": "execute_result"
    }
   ],
   "source": [
    "s"
   ]
  },
  {
   "cell_type": "markdown",
   "id": "1539ee0d",
   "metadata": {},
   "source": [
    "Note: List are mutable"
   ]
  },
  {
   "cell_type": "code",
   "execution_count": 17,
   "id": "32825f64",
   "metadata": {},
   "outputs": [],
   "source": [
    "names[2] = 'Nwando'"
   ]
  },
  {
   "cell_type": "code",
   "execution_count": 18,
   "id": "933024d3",
   "metadata": {},
   "outputs": [
    {
     "name": "stdout",
     "output_type": "stream",
     "text": [
      "['John', 'Antony', 'Nwando', 'Michael', 'Glory', 'Joshua']\n"
     ]
    }
   ],
   "source": [
    "#mutablility of the list\n",
    "print(names)"
   ]
  },
  {
   "cell_type": "code",
   "execution_count": 19,
   "id": "a4fb9e0a",
   "metadata": {},
   "outputs": [],
   "source": [
    "names.clear()"
   ]
  },
  {
   "cell_type": "code",
   "execution_count": 20,
   "id": "3ff9c039",
   "metadata": {},
   "outputs": [
    {
     "name": "stdout",
     "output_type": "stream",
     "text": [
      "[]\n"
     ]
    }
   ],
   "source": [
    "print(names)"
   ]
  },
  {
   "cell_type": "code",
   "execution_count": 21,
   "id": "5d2592e7",
   "metadata": {},
   "outputs": [
    {
     "data": {
      "text/plain": [
       "0"
      ]
     },
     "execution_count": 21,
     "metadata": {},
     "output_type": "execute_result"
    }
   ],
   "source": [
    "names.count(0)"
   ]
  },
  {
   "cell_type": "code",
   "execution_count": 22,
   "id": "94fde183",
   "metadata": {},
   "outputs": [
    {
     "name": "stdout",
     "output_type": "stream",
     "text": [
      "['Lion', 'Goat', 'Elephant', 'Monkey', 'Elephant']\n"
     ]
    }
   ],
   "source": [
    "animals = ['Lion', 'Goat', 'Elephant', 'Monkey', 'Elephant']\n",
    "print(animals)"
   ]
  },
  {
   "cell_type": "code",
   "execution_count": 23,
   "id": "e6e4d5e3",
   "metadata": {},
   "outputs": [
    {
     "data": {
      "text/plain": [
       "1"
      ]
     },
     "execution_count": 23,
     "metadata": {},
     "output_type": "execute_result"
    }
   ],
   "source": [
    "animals.count('Goat')"
   ]
  },
  {
   "cell_type": "code",
   "execution_count": 24,
   "id": "6477f6f7",
   "metadata": {},
   "outputs": [],
   "source": [
    "names = names.append('James')"
   ]
  },
  {
   "cell_type": "code",
   "execution_count": 25,
   "id": "01331f78",
   "metadata": {},
   "outputs": [
    {
     "name": "stdout",
     "output_type": "stream",
     "text": [
      "None\n"
     ]
    }
   ],
   "source": [
    "print(names)"
   ]
  },
  {
   "cell_type": "code",
   "execution_count": 26,
   "id": "925742ed",
   "metadata": {},
   "outputs": [
    {
     "data": {
      "text/plain": [
       "['Lion', 'Goat', 'Elephant', 'Monkey', 'Elephant']"
      ]
     },
     "execution_count": 26,
     "metadata": {},
     "output_type": "execute_result"
    }
   ],
   "source": [
    "animals"
   ]
  },
  {
   "cell_type": "code",
   "execution_count": 27,
   "id": "e487aaa3",
   "metadata": {},
   "outputs": [
    {
     "data": {
      "text/plain": [
       "0"
      ]
     },
     "execution_count": 27,
     "metadata": {},
     "output_type": "execute_result"
    }
   ],
   "source": [
    "animals.count('Dora')"
   ]
  },
  {
   "cell_type": "code",
   "execution_count": 28,
   "id": "ce054aac",
   "metadata": {},
   "outputs": [
    {
     "data": {
      "text/plain": [
       "['Lion', 'Goat', 'Elephant', 'Monkey', 'Elephant']"
      ]
     },
     "execution_count": 28,
     "metadata": {},
     "output_type": "execute_result"
    }
   ],
   "source": [
    "animals"
   ]
  },
  {
   "cell_type": "markdown",
   "id": "b271c264",
   "metadata": {},
   "source": [
    "### Looping through a list"
   ]
  },
  {
   "cell_type": "code",
   "execution_count": 29,
   "id": "ef9280fb",
   "metadata": {},
   "outputs": [
    {
     "name": "stdout",
     "output_type": "stream",
     "text": [
      "['Nigeria', 'Ghana', 'England', 'Canada', 'France', 'Japan']\n"
     ]
    }
   ],
   "source": [
    "Countries = ['Nigeria', 'Ghana', 'England', 'Canada', 'France', 'Japan']\n",
    "print(Countries)"
   ]
  },
  {
   "cell_type": "code",
   "execution_count": 30,
   "id": "f3545a3b",
   "metadata": {},
   "outputs": [
    {
     "name": "stdout",
     "output_type": "stream",
     "text": [
      "Nigeria\n",
      "Ghana\n",
      "England\n",
      "Canada\n",
      "France\n",
      "Japan\n"
     ]
    }
   ],
   "source": [
    "for country in Countries:\n",
    "    print(country)"
   ]
  },
  {
   "cell_type": "code",
   "execution_count": 31,
   "id": "e67ea245",
   "metadata": {},
   "outputs": [
    {
     "name": "stdout",
     "output_type": "stream",
     "text": [
      "Orange\n",
      "1\n",
      "Pineaple\n",
      "3\n",
      "Apple\n",
      "4\n",
      "Amount\n",
      "3429.0\n"
     ]
    }
   ],
   "source": [
    "items = ['Orange', 1, 'Pineaple', 3, 'Apple', 4, 'Amount', 3429.000]\n",
    "for item in items:\n",
    "    print(item)"
   ]
  },
  {
   "cell_type": "code",
   "execution_count": 32,
   "id": "a14ed450",
   "metadata": {},
   "outputs": [
    {
     "name": "stdout",
     "output_type": "stream",
     "text": [
      "['Animals', 'people', 'Places', 'Region']\n",
      "time taken:  1674850412.859211\n"
     ]
    }
   ],
   "source": [
    "from time import time\n",
    "li = ['Animals', 'people']\n",
    "l2 = ['Places', 'Region']\n",
    "\n",
    "l3 = li + l2\n",
    "time = time()\n",
    "print(l3)\n",
    "print(\"time taken: \",time)"
   ]
  },
  {
   "cell_type": "code",
   "execution_count": 33,
   "id": "a17287ae",
   "metadata": {},
   "outputs": [
    {
     "name": "stdout",
     "output_type": "stream",
     "text": [
      "the time taken:  1674850412.859211\n"
     ]
    }
   ],
   "source": [
    "l4 = ['Yes', 'No']\n",
    "l5 = ['True', 'False']\n",
    "l6 = l5.extend(l4)\n",
    "print(\"the time taken: \", time)"
   ]
  },
  {
   "cell_type": "code",
   "execution_count": 34,
   "id": "14bca121",
   "metadata": {},
   "outputs": [],
   "source": [
    "unsortedList = [3, 78, 37, 1, 5, 9, 0]"
   ]
  },
  {
   "cell_type": "code",
   "execution_count": 35,
   "id": "3bbe6af3",
   "metadata": {},
   "outputs": [
    {
     "data": {
      "text/plain": [
       "[3, 78, 37, 1, 5, 9, 0]"
      ]
     },
     "execution_count": 35,
     "metadata": {},
     "output_type": "execute_result"
    }
   ],
   "source": [
    "unsortedList"
   ]
  },
  {
   "cell_type": "code",
   "execution_count": 36,
   "id": "cea92381",
   "metadata": {},
   "outputs": [],
   "source": [
    "unsortedList.sort(reverse=False)"
   ]
  },
  {
   "cell_type": "code",
   "execution_count": 37,
   "id": "032eebac",
   "metadata": {},
   "outputs": [
    {
     "data": {
      "text/plain": [
       "['Orange', 1, 'Pineaple', 3, 'Apple', 4, 'Amount', 3429.0]"
      ]
     },
     "execution_count": 37,
     "metadata": {},
     "output_type": "execute_result"
    }
   ],
   "source": [
    "items"
   ]
  },
  {
   "cell_type": "code",
   "execution_count": 38,
   "id": "1308a88d",
   "metadata": {},
   "outputs": [],
   "source": [
    "num = [3, 5, 1, 2]\n",
    "num.sort()"
   ]
  },
  {
   "cell_type": "code",
   "execution_count": 39,
   "id": "d3acba83",
   "metadata": {},
   "outputs": [
    {
     "name": "stdout",
     "output_type": "stream",
     "text": [
      "None\n"
     ]
    }
   ],
   "source": [
    "print(num.sort())"
   ]
  },
  {
   "cell_type": "markdown",
   "id": "b0fc02ee",
   "metadata": {},
   "source": [
    "### Tuples"
   ]
  },
  {
   "cell_type": "code",
   "execution_count": 40,
   "id": "5a9be882",
   "metadata": {},
   "outputs": [
    {
     "data": {
      "text/plain": [
       "tuple"
      ]
     },
     "execution_count": 40,
     "metadata": {},
     "output_type": "execute_result"
    }
   ],
   "source": [
    "type(tuple())"
   ]
  },
  {
   "cell_type": "code",
   "execution_count": 41,
   "id": "63c979f3",
   "metadata": {},
   "outputs": [
    {
     "data": {
      "text/plain": [
       "(1, 2, 3, 4)"
      ]
     },
     "execution_count": 41,
     "metadata": {},
     "output_type": "execute_result"
    }
   ],
   "source": [
    "tup_1 = (1, 2, 3, 4)\n",
    "tup_1"
   ]
  },
  {
   "cell_type": "code",
   "execution_count": 42,
   "id": "a81b31f0",
   "metadata": {},
   "outputs": [
    {
     "data": {
      "text/plain": [
       "(1, 2, 3, 4)"
      ]
     },
     "execution_count": 42,
     "metadata": {},
     "output_type": "execute_result"
    }
   ],
   "source": [
    "num = 1, 2,3,4\n",
    "num"
   ]
  },
  {
   "cell_type": "code",
   "execution_count": 43,
   "id": "c90af77d",
   "metadata": {},
   "outputs": [
    {
     "data": {
      "text/plain": [
       "tuple"
      ]
     },
     "execution_count": 43,
     "metadata": {},
     "output_type": "execute_result"
    }
   ],
   "source": [
    "type(num)"
   ]
  },
  {
   "cell_type": "code",
   "execution_count": 44,
   "id": "6a8f4af4",
   "metadata": {},
   "outputs": [
    {
     "data": {
      "text/plain": [
       "('Mike', 2, 'John', 3)"
      ]
     },
     "execution_count": 44,
     "metadata": {},
     "output_type": "execute_result"
    }
   ],
   "source": [
    "tup_2 = ('Mike', 2, 'John', 3)\n",
    "tup_2"
   ]
  },
  {
   "cell_type": "markdown",
   "id": "f9ce9bab",
   "metadata": {},
   "source": [
    "Note: Tuples are not mutable"
   ]
  },
  {
   "cell_type": "code",
   "execution_count": 45,
   "id": "173904dc",
   "metadata": {},
   "outputs": [
    {
     "data": {
      "text/plain": [
       "(1, 2, 3, 4)"
      ]
     },
     "execution_count": 45,
     "metadata": {},
     "output_type": "execute_result"
    }
   ],
   "source": [
    "tup_1"
   ]
  },
  {
   "cell_type": "code",
   "execution_count": 46,
   "id": "4c57af9a",
   "metadata": {},
   "outputs": [
    {
     "ename": "TypeError",
     "evalue": "'tuple' object does not support item assignment",
     "output_type": "error",
     "traceback": [
      "\u001b[0;31m---------------------------------------------------------------------------\u001b[0m",
      "\u001b[0;31mTypeError\u001b[0m                                 Traceback (most recent call last)",
      "\u001b[1;32m/Users/apple/Desktop/New/Python-for-Data-analyst/Python-Data-Structures.ipynb Cell 53\u001b[0m in \u001b[0;36m<cell line: 1>\u001b[0;34m()\u001b[0m\n\u001b[0;32m----> <a href='vscode-notebook-cell:/Users/apple/Desktop/New/Python-for-Data-analyst/Python-Data-Structures.ipynb#Y103sZmlsZQ%3D%3D?line=0'>1</a>\u001b[0m tup_1[\u001b[39m2\u001b[39m] \u001b[39m=\u001b[39m \u001b[39m6\u001b[39m\n\u001b[1;32m      <a href='vscode-notebook-cell:/Users/apple/Desktop/New/Python-for-Data-analyst/Python-Data-Structures.ipynb#Y103sZmlsZQ%3D%3D?line=1'>2</a>\u001b[0m \u001b[39mprint\u001b[39m(tup_1)\n",
      "\u001b[0;31mTypeError\u001b[0m: 'tuple' object does not support item assignment"
     ]
    }
   ],
   "source": [
    "tup_1[2] = 6\n",
    "print(tup_1)"
   ]
  },
  {
   "cell_type": "code",
   "execution_count": 47,
   "id": "e2f582d2",
   "metadata": {},
   "outputs": [
    {
     "data": {
      "text/plain": [
       "('Mike', 2, 'John', 3)"
      ]
     },
     "execution_count": 47,
     "metadata": {},
     "output_type": "execute_result"
    }
   ],
   "source": [
    "tup_2"
   ]
  },
  {
   "cell_type": "code",
   "execution_count": 48,
   "id": "593d3b1a",
   "metadata": {},
   "outputs": [
    {
     "data": {
      "text/plain": [
       "1"
      ]
     },
     "execution_count": 48,
     "metadata": {},
     "output_type": "execute_result"
    }
   ],
   "source": [
    "tup_1.count(3)"
   ]
  },
  {
   "cell_type": "code",
   "execution_count": 49,
   "id": "fc30f560",
   "metadata": {},
   "outputs": [
    {
     "data": {
      "text/plain": [
       "1"
      ]
     },
     "execution_count": 49,
     "metadata": {},
     "output_type": "execute_result"
    }
   ],
   "source": [
    "tup_1.index(2)"
   ]
  },
  {
   "cell_type": "code",
   "execution_count": 50,
   "id": "cb2b2e7b",
   "metadata": {},
   "outputs": [
    {
     "data": {
      "text/plain": [
       "(1, 2, 3, 4, 'Mike', 2, 'John', 3)"
      ]
     },
     "execution_count": 50,
     "metadata": {},
     "output_type": "execute_result"
    }
   ],
   "source": [
    "tup_3 = tup_1 + tup_2\n",
    "tup_3"
   ]
  },
  {
   "cell_type": "markdown",
   "id": "e23da0dd",
   "metadata": {},
   "source": [
    "### Looping through a tuple"
   ]
  },
  {
   "cell_type": "code",
   "execution_count": 51,
   "id": "2b8791dc",
   "metadata": {},
   "outputs": [
    {
     "name": "stdout",
     "output_type": "stream",
     "text": [
      "Jane\n",
      "jackson\n",
      "Eugene\n",
      "Kingsley\n"
     ]
    }
   ],
   "source": [
    "names = (\"Jane\", \"jackson\", 'Eugene', 'Kingsley')\n",
    "for name in names:\n",
    "    print(name)"
   ]
  },
  {
   "cell_type": "code",
   "execution_count": 52,
   "id": "fc5475ea",
   "metadata": {},
   "outputs": [
    {
     "data": {
      "text/plain": [
       "([], (), {})"
      ]
     },
     "execution_count": 52,
     "metadata": {},
     "output_type": "execute_result"
    }
   ],
   "source": [
    "[], (), {}"
   ]
  },
  {
   "cell_type": "markdown",
   "id": "6f81afd1",
   "metadata": {},
   "source": [
    "### Sets"
   ]
  },
  {
   "cell_type": "code",
   "execution_count": 53,
   "id": "e99e4435",
   "metadata": {},
   "outputs": [
    {
     "data": {
      "text/plain": [
       "set"
      ]
     },
     "execution_count": 53,
     "metadata": {},
     "output_type": "execute_result"
    }
   ],
   "source": [
    "A = set()\n",
    "type(A)"
   ]
  },
  {
   "cell_type": "code",
   "execution_count": 54,
   "id": "7949db76",
   "metadata": {},
   "outputs": [
    {
     "name": "stdout",
     "output_type": "stream",
     "text": [
      "{'Mike', 1, 4, 'Jane', 'Akoh', 5}\n"
     ]
    }
   ],
   "source": [
    "A = {'Jane', 1, 'Mike', 'Akoh','Akoh', 'Akoh', 4, 4, 5}\n",
    "print(A)"
   ]
  },
  {
   "cell_type": "markdown",
   "id": "7bebe86a",
   "metadata": {},
   "source": [
    "Note: Set does not accepts duplicate values."
   ]
  },
  {
   "cell_type": "code",
   "execution_count": 55,
   "id": "e10da2fb",
   "metadata": {},
   "outputs": [
    {
     "name": "stdout",
     "output_type": "stream",
     "text": [
      "{'Mike', 1, 4, 'Jane', 'Akoh', 5, 'Johnson'}\n"
     ]
    }
   ],
   "source": [
    "A.add('Johnson')\n",
    "print(A)"
   ]
  },
  {
   "cell_type": "code",
   "execution_count": 56,
   "id": "5afea73b",
   "metadata": {},
   "outputs": [],
   "source": [
    "B = A.copy()"
   ]
  },
  {
   "cell_type": "code",
   "execution_count": 57,
   "id": "7c03117d",
   "metadata": {},
   "outputs": [
    {
     "name": "stdout",
     "output_type": "stream",
     "text": [
      "{'Mike', 1, 4, 'Jane', 'Akoh', 5, 'Johnson'}\n"
     ]
    }
   ],
   "source": [
    "print(B)"
   ]
  },
  {
   "cell_type": "code",
   "execution_count": 58,
   "id": "30dd3fa8",
   "metadata": {},
   "outputs": [
    {
     "data": {
      "text/plain": [
       "True"
      ]
     },
     "execution_count": 58,
     "metadata": {},
     "output_type": "execute_result"
    }
   ],
   "source": [
    "A == B"
   ]
  },
  {
   "cell_type": "code",
   "execution_count": 59,
   "id": "a93895ba",
   "metadata": {},
   "outputs": [
    {
     "data": {
      "text/plain": [
       "set()"
      ]
     },
     "execution_count": 59,
     "metadata": {},
     "output_type": "execute_result"
    }
   ],
   "source": [
    "A.difference(B)"
   ]
  },
  {
   "cell_type": "code",
   "execution_count": 60,
   "id": "85e0ce43",
   "metadata": {},
   "outputs": [
    {
     "data": {
      "text/plain": [
       "{4, 'Akoh', 'Jane', 'Johnson'}"
      ]
     },
     "execution_count": 60,
     "metadata": {},
     "output_type": "execute_result"
    }
   ],
   "source": [
    "C = {1, 3, 5, \"Mike\"}\n",
    "A.difference(C)"
   ]
  },
  {
   "cell_type": "code",
   "execution_count": 61,
   "id": "db5597ec",
   "metadata": {},
   "outputs": [],
   "source": [
    "C.add('Daniel')"
   ]
  },
  {
   "cell_type": "code",
   "execution_count": 62,
   "id": "2322fe06",
   "metadata": {},
   "outputs": [
    {
     "data": {
      "text/plain": [
       "{1, 3, 5, 'Daniel', 'Mike'}"
      ]
     },
     "execution_count": 62,
     "metadata": {},
     "output_type": "execute_result"
    }
   ],
   "source": [
    "C"
   ]
  },
  {
   "cell_type": "code",
   "execution_count": 63,
   "id": "85983e47",
   "metadata": {},
   "outputs": [],
   "source": [
    "A.difference_update(C)"
   ]
  },
  {
   "cell_type": "code",
   "execution_count": 64,
   "id": "151513fb",
   "metadata": {},
   "outputs": [
    {
     "data": {
      "text/plain": [
       "{4, 'Akoh', 'Jane', 'Johnson'}"
      ]
     },
     "execution_count": 64,
     "metadata": {},
     "output_type": "execute_result"
    }
   ],
   "source": [
    "#what is common between set A and set B\n",
    "A.intersection(B)"
   ]
  },
  {
   "cell_type": "code",
   "execution_count": 65,
   "id": "0ea75a71",
   "metadata": {},
   "outputs": [
    {
     "data": {
      "text/plain": [
       "{1, 3, 4, 5, 'Akoh', 'Daniel', 'Jane', 'Johnson', 'Mike'}"
      ]
     },
     "execution_count": 65,
     "metadata": {},
     "output_type": "execute_result"
    }
   ],
   "source": [
    "#combines set A and set C\n",
    "A.union(C)"
   ]
  },
  {
   "cell_type": "code",
   "execution_count": 66,
   "id": "611e76cf",
   "metadata": {},
   "outputs": [
    {
     "name": "stdout",
     "output_type": "stream",
     "text": [
      "{4, 'Jane', 'Akoh', 'Johnson'}\n"
     ]
    }
   ],
   "source": [
    "print(A)"
   ]
  },
  {
   "cell_type": "markdown",
   "id": "5215a65e",
   "metadata": {},
   "source": [
    "**Note: FIRST-IN-FIRST-OUT**"
   ]
  },
  {
   "cell_type": "code",
   "execution_count": 67,
   "id": "d756ee68",
   "metadata": {},
   "outputs": [
    {
     "data": {
      "text/plain": [
       "4"
      ]
     },
     "execution_count": 67,
     "metadata": {},
     "output_type": "execute_result"
    }
   ],
   "source": [
    "A.pop()"
   ]
  },
  {
   "cell_type": "code",
   "execution_count": 68,
   "id": "974e87bf",
   "metadata": {},
   "outputs": [
    {
     "name": "stdout",
     "output_type": "stream",
     "text": [
      "{'Jane', 'Akoh', 'Johnson'}\n"
     ]
    }
   ],
   "source": [
    "print(A)"
   ]
  },
  {
   "cell_type": "code",
   "execution_count": 69,
   "id": "8774f8d4",
   "metadata": {},
   "outputs": [
    {
     "data": {
      "text/plain": [
       "'Jane'"
      ]
     },
     "execution_count": 69,
     "metadata": {},
     "output_type": "execute_result"
    }
   ],
   "source": [
    "A.pop()"
   ]
  },
  {
   "cell_type": "code",
   "execution_count": 70,
   "id": "21d8fec5",
   "metadata": {},
   "outputs": [
    {
     "name": "stdout",
     "output_type": "stream",
     "text": [
      "{'Akoh', 'Johnson'}\n"
     ]
    }
   ],
   "source": [
    "print(A)"
   ]
  },
  {
   "cell_type": "code",
   "execution_count": 71,
   "id": "4adbef8f",
   "metadata": {},
   "outputs": [
    {
     "data": {
      "text/plain": [
       "{1, 4, 5, 'Akoh', 'Jane', 'Johnson', 'Mike'}"
      ]
     },
     "execution_count": 71,
     "metadata": {},
     "output_type": "execute_result"
    }
   ],
   "source": [
    "B"
   ]
  },
  {
   "cell_type": "code",
   "execution_count": 72,
   "id": "4a0abbd9",
   "metadata": {},
   "outputs": [
    {
     "data": {
      "text/plain": [
       "{'Akoh', 'Johnson'}"
      ]
     },
     "execution_count": 72,
     "metadata": {},
     "output_type": "execute_result"
    }
   ],
   "source": [
    "A"
   ]
  },
  {
   "cell_type": "markdown",
   "id": "2a0a7802",
   "metadata": {},
   "source": [
    "### Looping through the set items"
   ]
  },
  {
   "cell_type": "code",
   "execution_count": 73,
   "id": "7fe02aea",
   "metadata": {},
   "outputs": [
    {
     "name": "stdout",
     "output_type": "stream",
     "text": [
      "Akoh\n",
      "Johnson\n"
     ]
    }
   ],
   "source": [
    "for a in A:\n",
    "    print(a)"
   ]
  },
  {
   "cell_type": "markdown",
   "id": "4e673187",
   "metadata": {},
   "source": [
    "### Dictionary"
   ]
  },
  {
   "cell_type": "code",
   "execution_count": 74,
   "id": "47cf5eea",
   "metadata": {},
   "outputs": [
    {
     "data": {
      "text/plain": [
       "dict"
      ]
     },
     "execution_count": 74,
     "metadata": {},
     "output_type": "execute_result"
    }
   ],
   "source": [
    "n = dict()\n",
    "type(n)"
   ]
  },
  {
   "cell_type": "markdown",
   "id": "2242b677",
   "metadata": {},
   "source": [
    "Key:value pairs"
   ]
  },
  {
   "cell_type": "markdown",
   "id": "c15b9c81",
   "metadata": {},
   "source": [
    "### How to create a Python dictionary"
   ]
  },
  {
   "cell_type": "code",
   "execution_count": 75,
   "id": "2dd0a2f0",
   "metadata": {},
   "outputs": [
    {
     "name": "stdout",
     "output_type": "stream",
     "text": [
      "{'Product_A': 2300, 'Product_B': 4500, 'Product_C': 16500}\n"
     ]
    }
   ],
   "source": [
    "products = {}\n",
    "\n",
    "products['Product_A'] = 2300\n",
    "products['Product_B'] = 4500\n",
    "products['Product_C'] = 16500\n",
    "print(products)"
   ]
  },
  {
   "cell_type": "code",
   "execution_count": 76,
   "id": "15873393",
   "metadata": {},
   "outputs": [
    {
     "name": "stdout",
     "output_type": "stream",
     "text": [
      "{'Item_A': 4300, 'Item_B': 7800, 'Item_C': 8900}\n"
     ]
    }
   ],
   "source": [
    "items = {'Item_A': 4300,\n",
    "        \"Item_B\": 7800,\n",
    "        \"Item_C\": 8900}\n",
    "print(items)"
   ]
  },
  {
   "cell_type": "code",
   "execution_count": 77,
   "id": "dfe7cbde",
   "metadata": {},
   "outputs": [
    {
     "name": "stdout",
     "output_type": "stream",
     "text": [
      "{'Orange': 10, 'Mango': 20, 'Apple': 15, 'Banana': 45}\n"
     ]
    }
   ],
   "source": [
    "fruits_basket = dict()\n",
    "\n",
    "fruits_basket['Orange'] = 10\n",
    "fruits_basket['Mango'] = 20\n",
    "fruits_basket['Apple'] = 15\n",
    "fruits_basket['Banana'] = 45\n",
    "print(fruits_basket)"
   ]
  },
  {
   "cell_type": "code",
   "execution_count": 78,
   "id": "d04d2478",
   "metadata": {},
   "outputs": [
    {
     "data": {
      "text/plain": [
       "dict_keys(['Orange', 'Mango', 'Apple', 'Banana'])"
      ]
     },
     "execution_count": 78,
     "metadata": {},
     "output_type": "execute_result"
    }
   ],
   "source": [
    "# to get all key values in a dictionary\n",
    "fruits_basket.keys()"
   ]
  },
  {
   "cell_type": "code",
   "execution_count": 79,
   "id": "7381a6df",
   "metadata": {},
   "outputs": [
    {
     "data": {
      "text/plain": [
       "10"
      ]
     },
     "execution_count": 79,
     "metadata": {},
     "output_type": "execute_result"
    }
   ],
   "source": [
    "fruits_basket.get('Orange')"
   ]
  },
  {
   "cell_type": "code",
   "execution_count": 80,
   "id": "e8479fea",
   "metadata": {},
   "outputs": [
    {
     "data": {
      "text/plain": [
       "dict_items([('Orange', 10), ('Mango', 20), ('Apple', 15), ('Banana', 45)])"
      ]
     },
     "execution_count": 80,
     "metadata": {},
     "output_type": "execute_result"
    }
   ],
   "source": [
    "fruits_basket.items()"
   ]
  },
  {
   "cell_type": "markdown",
   "id": "c16a4a10",
   "metadata": {},
   "source": [
    "Note: Dictionary are mutables"
   ]
  },
  {
   "cell_type": "code",
   "execution_count": 81,
   "id": "6542aa50",
   "metadata": {},
   "outputs": [
    {
     "name": "stdout",
     "output_type": "stream",
     "text": [
      "{'Orange': 30, 'Mango': 20, 'Apple': 15, 'Banana': 45}\n"
     ]
    }
   ],
   "source": [
    "fruits_basket['Orange'] = 30\n",
    "print(fruits_basket)"
   ]
  },
  {
   "cell_type": "markdown",
   "id": "4da98714",
   "metadata": {},
   "source": [
    "### Looping through a dictionary"
   ]
  },
  {
   "cell_type": "code",
   "execution_count": 82,
   "id": "1e45e44a",
   "metadata": {},
   "outputs": [
    {
     "data": {
      "text/plain": [
       "{'Orange': 30, 'Mango': 20, 'Apple': 15, 'Banana': 45}"
      ]
     },
     "execution_count": 82,
     "metadata": {},
     "output_type": "execute_result"
    }
   ],
   "source": [
    "fruits_basket"
   ]
  },
  {
   "cell_type": "code",
   "execution_count": 83,
   "id": "63a5ce6f",
   "metadata": {},
   "outputs": [
    {
     "name": "stdout",
     "output_type": "stream",
     "text": [
      "{'Orange': 30, 'Mango': 20, 'Apple': 15, 'Banana': 45}\n"
     ]
    }
   ],
   "source": [
    "print(fruits_basket)"
   ]
  },
  {
   "cell_type": "code",
   "execution_count": 84,
   "id": "0cf19328",
   "metadata": {},
   "outputs": [
    {
     "name": "stdout",
     "output_type": "stream",
     "text": [
      "('Orange', 30)\n",
      "('Mango', 20)\n",
      "('Apple', 15)\n",
      "('Banana', 45)\n"
     ]
    }
   ],
   "source": [
    "for fruit_basket in fruits_basket.items():\n",
    "    print(fruit_basket)"
   ]
  },
  {
   "cell_type": "markdown",
   "id": "85664ad7",
   "metadata": {},
   "source": [
    "### Assignment\n",
    "\n",
    "- Create a List of items, and apply the list methods to the created list.\n",
    "- Create a dictionary of student_name and scores.\n",
    "1. Get the key elements in the dictionary\n",
    "2. Get the values in dictionary\n",
    "3. Assuming you made a mistake in one of the students scores, try changing the student scores to the updated score.\n",
    "4. Add a new student name and score to the already existing dictionary of students\n",
    "5. Loop through a list of items, dictionary, set, and tuples."
   ]
  },
  {
   "cell_type": "markdown",
   "id": "05c35d13",
   "metadata": {},
   "source": []
  }
 ],
 "metadata": {
  "kernelspec": {
   "display_name": "Python 3.9.12 ('base')",
   "language": "python",
   "name": "python3"
  },
  "language_info": {
   "codemirror_mode": {
    "name": "ipython",
    "version": 3
   },
   "file_extension": ".py",
   "mimetype": "text/x-python",
   "name": "python",
   "nbconvert_exporter": "python",
   "pygments_lexer": "ipython3",
   "version": "3.9.12"
  },
  "vscode": {
   "interpreter": {
    "hash": "40d3a090f54c6569ab1632332b64b2c03c39dcf918b08424e98f38b5ae0af88f"
   }
  }
 },
 "nbformat": 4,
 "nbformat_minor": 5
}
